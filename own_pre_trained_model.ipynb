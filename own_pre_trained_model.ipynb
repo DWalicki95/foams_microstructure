{
  "nbformat": 4,
  "nbformat_minor": 0,
  "metadata": {
    "colab": {
      "provenance": [],
      "gpuType": "T4"
    },
    "kernelspec": {
      "name": "python3",
      "display_name": "Python 3"
    },
    "language_info": {
      "name": "python"
    },
    "accelerator": "GPU"
  },
  "cells": [
    {
      "cell_type": "markdown",
      "source": [
        "The idea is to prepare initial model, train it to recognize masked part of an image and further use to main problem (classification task). It is own pre-trained model and is called self-supervised image inpainting or context prediction."
      ],
      "metadata": {
        "id": "pfebG0UDJ1VN"
      }
    },
    {
      "cell_type": "code",
      "source": [
        "import os\n",
        "import collections\n",
        "import pandas as pd\n",
        "import matplotlib.pyplot as plt\n",
        "import numpy as np\n",
        "import random\n",
        "from PIL import Image, ImageDraw\n",
        "import torch\n",
        "from torchvision import transforms, datasets\n",
        "from torch import nn\n",
        "from torch.utils.data import DataLoader\n",
        "from sklearn.model_selection import KFold\n",
        "import math"
      ],
      "metadata": {
        "id": "wjnEfv_Z_IUy"
      },
      "execution_count": null,
      "outputs": []
    },
    {
      "cell_type": "code",
      "execution_count": null,
      "metadata": {
        "colab": {
          "base_uri": "https://localhost:8080/"
        },
        "id": "xKUk4l7i-YU1",
        "outputId": "7df9bf93-a183-4031-aee0-0b4ec3f4de4e"
      },
      "outputs": [
        {
          "output_type": "stream",
          "name": "stdout",
          "text": [
            "Mounted at /content/drive\n"
          ]
        }
      ],
      "source": [
        "from google.colab import drive\n",
        "drive.mount('/content/drive')"
      ]
    },
    {
      "cell_type": "code",
      "source": [
        "from google.colab import files\n",
        "functions = files.upload()"
      ],
      "metadata": {
        "id": "rPZdeYdU6xWi",
        "colab": {
          "base_uri": "https://localhost:8080/",
          "height": 73
        },
        "outputId": "e6f26235-393a-4929-9ac9-a441056e798c"
      },
      "execution_count": null,
      "outputs": [
        {
          "output_type": "display_data",
          "data": {
            "text/plain": [
              "<IPython.core.display.HTML object>"
            ],
            "text/html": [
              "\n",
              "     <input type=\"file\" id=\"files-e7255a1a-cb4d-43cf-8a36-fce26bce4bc5\" name=\"files[]\" multiple disabled\n",
              "        style=\"border:none\" />\n",
              "     <output id=\"result-e7255a1a-cb4d-43cf-8a36-fce26bce4bc5\">\n",
              "      Upload widget is only available when the cell has been executed in the\n",
              "      current browser session. Please rerun this cell to enable.\n",
              "      </output>\n",
              "      <script>// Copyright 2017 Google LLC\n",
              "//\n",
              "// Licensed under the Apache License, Version 2.0 (the \"License\");\n",
              "// you may not use this file except in compliance with the License.\n",
              "// You may obtain a copy of the License at\n",
              "//\n",
              "//      http://www.apache.org/licenses/LICENSE-2.0\n",
              "//\n",
              "// Unless required by applicable law or agreed to in writing, software\n",
              "// distributed under the License is distributed on an \"AS IS\" BASIS,\n",
              "// WITHOUT WARRANTIES OR CONDITIONS OF ANY KIND, either express or implied.\n",
              "// See the License for the specific language governing permissions and\n",
              "// limitations under the License.\n",
              "\n",
              "/**\n",
              " * @fileoverview Helpers for google.colab Python module.\n",
              " */\n",
              "(function(scope) {\n",
              "function span(text, styleAttributes = {}) {\n",
              "  const element = document.createElement('span');\n",
              "  element.textContent = text;\n",
              "  for (const key of Object.keys(styleAttributes)) {\n",
              "    element.style[key] = styleAttributes[key];\n",
              "  }\n",
              "  return element;\n",
              "}\n",
              "\n",
              "// Max number of bytes which will be uploaded at a time.\n",
              "const MAX_PAYLOAD_SIZE = 100 * 1024;\n",
              "\n",
              "function _uploadFiles(inputId, outputId) {\n",
              "  const steps = uploadFilesStep(inputId, outputId);\n",
              "  const outputElement = document.getElementById(outputId);\n",
              "  // Cache steps on the outputElement to make it available for the next call\n",
              "  // to uploadFilesContinue from Python.\n",
              "  outputElement.steps = steps;\n",
              "\n",
              "  return _uploadFilesContinue(outputId);\n",
              "}\n",
              "\n",
              "// This is roughly an async generator (not supported in the browser yet),\n",
              "// where there are multiple asynchronous steps and the Python side is going\n",
              "// to poll for completion of each step.\n",
              "// This uses a Promise to block the python side on completion of each step,\n",
              "// then passes the result of the previous step as the input to the next step.\n",
              "function _uploadFilesContinue(outputId) {\n",
              "  const outputElement = document.getElementById(outputId);\n",
              "  const steps = outputElement.steps;\n",
              "\n",
              "  const next = steps.next(outputElement.lastPromiseValue);\n",
              "  return Promise.resolve(next.value.promise).then((value) => {\n",
              "    // Cache the last promise value to make it available to the next\n",
              "    // step of the generator.\n",
              "    outputElement.lastPromiseValue = value;\n",
              "    return next.value.response;\n",
              "  });\n",
              "}\n",
              "\n",
              "/**\n",
              " * Generator function which is called between each async step of the upload\n",
              " * process.\n",
              " * @param {string} inputId Element ID of the input file picker element.\n",
              " * @param {string} outputId Element ID of the output display.\n",
              " * @return {!Iterable<!Object>} Iterable of next steps.\n",
              " */\n",
              "function* uploadFilesStep(inputId, outputId) {\n",
              "  const inputElement = document.getElementById(inputId);\n",
              "  inputElement.disabled = false;\n",
              "\n",
              "  const outputElement = document.getElementById(outputId);\n",
              "  outputElement.innerHTML = '';\n",
              "\n",
              "  const pickedPromise = new Promise((resolve) => {\n",
              "    inputElement.addEventListener('change', (e) => {\n",
              "      resolve(e.target.files);\n",
              "    });\n",
              "  });\n",
              "\n",
              "  const cancel = document.createElement('button');\n",
              "  inputElement.parentElement.appendChild(cancel);\n",
              "  cancel.textContent = 'Cancel upload';\n",
              "  const cancelPromise = new Promise((resolve) => {\n",
              "    cancel.onclick = () => {\n",
              "      resolve(null);\n",
              "    };\n",
              "  });\n",
              "\n",
              "  // Wait for the user to pick the files.\n",
              "  const files = yield {\n",
              "    promise: Promise.race([pickedPromise, cancelPromise]),\n",
              "    response: {\n",
              "      action: 'starting',\n",
              "    }\n",
              "  };\n",
              "\n",
              "  cancel.remove();\n",
              "\n",
              "  // Disable the input element since further picks are not allowed.\n",
              "  inputElement.disabled = true;\n",
              "\n",
              "  if (!files) {\n",
              "    return {\n",
              "      response: {\n",
              "        action: 'complete',\n",
              "      }\n",
              "    };\n",
              "  }\n",
              "\n",
              "  for (const file of files) {\n",
              "    const li = document.createElement('li');\n",
              "    li.append(span(file.name, {fontWeight: 'bold'}));\n",
              "    li.append(span(\n",
              "        `(${file.type || 'n/a'}) - ${file.size} bytes, ` +\n",
              "        `last modified: ${\n",
              "            file.lastModifiedDate ? file.lastModifiedDate.toLocaleDateString() :\n",
              "                                    'n/a'} - `));\n",
              "    const percent = span('0% done');\n",
              "    li.appendChild(percent);\n",
              "\n",
              "    outputElement.appendChild(li);\n",
              "\n",
              "    const fileDataPromise = new Promise((resolve) => {\n",
              "      const reader = new FileReader();\n",
              "      reader.onload = (e) => {\n",
              "        resolve(e.target.result);\n",
              "      };\n",
              "      reader.readAsArrayBuffer(file);\n",
              "    });\n",
              "    // Wait for the data to be ready.\n",
              "    let fileData = yield {\n",
              "      promise: fileDataPromise,\n",
              "      response: {\n",
              "        action: 'continue',\n",
              "      }\n",
              "    };\n",
              "\n",
              "    // Use a chunked sending to avoid message size limits. See b/62115660.\n",
              "    let position = 0;\n",
              "    do {\n",
              "      const length = Math.min(fileData.byteLength - position, MAX_PAYLOAD_SIZE);\n",
              "      const chunk = new Uint8Array(fileData, position, length);\n",
              "      position += length;\n",
              "\n",
              "      const base64 = btoa(String.fromCharCode.apply(null, chunk));\n",
              "      yield {\n",
              "        response: {\n",
              "          action: 'append',\n",
              "          file: file.name,\n",
              "          data: base64,\n",
              "        },\n",
              "      };\n",
              "\n",
              "      let percentDone = fileData.byteLength === 0 ?\n",
              "          100 :\n",
              "          Math.round((position / fileData.byteLength) * 100);\n",
              "      percent.textContent = `${percentDone}% done`;\n",
              "\n",
              "    } while (position < fileData.byteLength);\n",
              "  }\n",
              "\n",
              "  // All done.\n",
              "  yield {\n",
              "    response: {\n",
              "      action: 'complete',\n",
              "    }\n",
              "  };\n",
              "}\n",
              "\n",
              "scope.google = scope.google || {};\n",
              "scope.google.colab = scope.google.colab || {};\n",
              "scope.google.colab._files = {\n",
              "  _uploadFiles,\n",
              "  _uploadFilesContinue,\n",
              "};\n",
              "})(self);\n",
              "</script> "
            ]
          },
          "metadata": {}
        },
        {
          "output_type": "stream",
          "name": "stdout",
          "text": [
            "Saving helper_functions.py to helper_functions.py\n"
          ]
        }
      ]
    },
    {
      "cell_type": "code",
      "source": [
        "from helper_functions import count_files_in_drive, create_dataset\n",
        "from helper_functions import count_init_transform_shape, print_random_image\n",
        "from helper_functions import show_transformed_images\n",
        "from helper_functions import train_step, test_step, train_and_test"
      ],
      "metadata": {
        "id": "cFSSzode8uJ-",
        "colab": {
          "base_uri": "https://localhost:8080/"
        },
        "outputId": "868f8832-b88d-4c96-dbb8-b0e5532ac6e9"
      },
      "execution_count": null,
      "outputs": [
        {
          "output_type": "stream",
          "name": "stdout",
          "text": [
            "Drive already mounted at /content/drive; to attempt to forcibly remount, call drive.mount(\"/content/drive\", force_remount=True).\n"
          ]
        }
      ]
    },
    {
      "cell_type": "code",
      "source": [
        "device = 'cuda' if torch.cuda.is_available() else 'cpu' #device agnostic code"
      ],
      "metadata": {
        "id": "vvG_fWUH4c10"
      },
      "execution_count": null,
      "outputs": []
    },
    {
      "cell_type": "code",
      "source": [
        "DRIVE_PATH = '/content/drive/MyDrive/Pianki'"
      ],
      "metadata": {
        "id": "kULCrb5dcIwl"
      },
      "execution_count": null,
      "outputs": []
    },
    {
      "cell_type": "code",
      "source": [
        "folder_file_count = {}\n",
        "zoom = 40 #different microscope maginification\n",
        "folder_file_count = count_files_in_drive(folder_file_count, zoom, DRIVE_PATH)"
      ],
      "metadata": {
        "id": "aXxc9g1DcC4f"
      },
      "execution_count": null,
      "outputs": []
    },
    {
      "cell_type": "code",
      "source": [
        "folder_file_count = collections.OrderedDict(sorted(folder_file_count.items()))"
      ],
      "metadata": {
        "id": "439Iw2h0dI4V"
      },
      "execution_count": null,
      "outputs": []
    },
    {
      "cell_type": "code",
      "source": [
        "sum(folder_file_count.values())"
      ],
      "metadata": {
        "id": "5QfgvlfkdqbK",
        "colab": {
          "base_uri": "https://localhost:8080/"
        },
        "outputId": "f3201168-55b9-4062-feee-efe1d02b68dd"
      },
      "execution_count": null,
      "outputs": [
        {
          "output_type": "execute_result",
          "data": {
            "text/plain": [
              "749"
            ]
          },
          "metadata": {},
          "execution_count": 11
        }
      ]
    },
    {
      "cell_type": "markdown",
      "source": [
        "## Creating dataset"
      ],
      "metadata": {
        "id": "-2Vsf0v1d72k"
      }
    },
    {
      "cell_type": "code",
      "source": [
        "data = pd.read_excel('/content/drive/MyDrive/Pianki/Dataset.xlsx', sheet_name='Arkusz2')\n",
        "data.drop('sample_index', axis=1, inplace=True)"
      ],
      "metadata": {
        "id": "ss9Vf_0WuHP8"
      },
      "execution_count": null,
      "outputs": []
    },
    {
      "cell_type": "code",
      "source": [
        "dataset = create_dataset('/content/drive/MyDrive/Pianki', data, '40%_tension') #it is commonly known that mechanical properties are related with microstructure, so here I've chosen 40%_tension BUT\n",
        "# I've also tested SAG factor (resulting mechanical properties), pHRR and U600 (thermal properties)"
      ],
      "metadata": {
        "id": "Tols0PE9zuwb"
      },
      "execution_count": null,
      "outputs": []
    },
    {
      "cell_type": "code",
      "source": [
        "rand_img = print_random_image(dataset, return_rand_img=True)"
      ],
      "metadata": {
        "colab": {
          "base_uri": "https://localhost:8080/"
        },
        "id": "LWSCOOUbmYCN",
        "outputId": "e355cd3d-ce64-4e3e-8529-ff2a3080d3cd"
      },
      "execution_count": null,
      "outputs": [
        {
          "output_type": "stream",
          "name": "stdout",
          "text": [
            "Random image path: /content/drive/MyDrive/Pianki/AS11/AS11_100_2.jpg\n",
            "Sample: AS11\n",
            "Property(40%_tension): 7.73\n",
            "Image height: 1040\n",
            "Image width: 1280\n"
          ]
        }
      ]
    },
    {
      "cell_type": "markdown",
      "source": [
        "# Self-supervised image inpainting"
      ],
      "metadata": {
        "id": "f5QAoCFimKuN"
      }
    },
    {
      "cell_type": "code",
      "source": [
        "test_img = Image.open(dataset['image_path'][5])"
      ],
      "metadata": {
        "id": "QKgWjZPEFpx3"
      },
      "execution_count": null,
      "outputs": []
    },
    {
      "cell_type": "code",
      "source": [
        "def cut_img(image, left=0, top=0, right=1280, bottom=960):\n",
        "  '''\n",
        "  Cutting image. Takes input:\n",
        "    * left = 'x' coordination\n",
        "    * right = left + img width\n",
        "    * top = 'y' coordination\n",
        "    * bottom = top + height\n",
        "  '''\n",
        "\n",
        "  return image.crop((left, top, right, bottom))"
      ],
      "metadata": {
        "id": "1rD3kL6jFkon"
      },
      "execution_count": null,
      "outputs": []
    },
    {
      "cell_type": "code",
      "source": [
        "im_crop = cut_img(test_img)"
      ],
      "metadata": {
        "id": "qVjCcIQiLaIj"
      },
      "execution_count": null,
      "outputs": []
    },
    {
      "cell_type": "code",
      "source": [
        "resized_height, resized_width = count_init_transform_shape(im_crop.height, im_crop.width)\n",
        "resized_height, resized_width"
      ],
      "metadata": {
        "id": "hcabfF7hR-em",
        "colab": {
          "base_uri": "https://localhost:8080/"
        },
        "outputId": "d9a72736-aeb4-4875-f14e-81e03347543f"
      },
      "execution_count": null,
      "outputs": [
        {
          "output_type": "execute_result",
          "data": {
            "text/plain": [
              "(168, 224)"
            ]
          },
          "metadata": {},
          "execution_count": 18
        }
      ]
    },
    {
      "cell_type": "code",
      "source": [
        "def mask_img(image, mask_size=(2, 2), masked_places=1, seed=42, mask_return=False):\n",
        "\n",
        "  '''\n",
        "  Mask random part of image.\n",
        "  '''\n",
        "\n",
        "  height, width = image.size\n",
        "  masked_image = image.copy()\n",
        "\n",
        "  for place in range(masked_places):\n",
        "\n",
        "    random.seed(seed)\n",
        "    top = np.random.randint(0, height - mask_size[0])\n",
        "    left = np.random.randint(0, width - mask_size[1])\n",
        "    bottom = top + mask_size[0]\n",
        "    right = left + mask_size[1]\n",
        "\n",
        "\n",
        "    draw = ImageDraw.Draw(masked_image)\n",
        "    draw.rectangle([left, top, right, bottom], fill=0)\n",
        "\n",
        "  return masked_image\n",
        "\n",
        "  if mask_return:\n",
        "    return masked_image, (left, top, right, bottom)"
      ],
      "metadata": {
        "id": "NycRLb00lOIL"
      },
      "execution_count": null,
      "outputs": []
    },
    {
      "cell_type": "code",
      "source": [
        "data_transform = transforms.Compose([\n",
        "    transforms.Lambda(cut_img),\n",
        "    transforms.Resize(size=(resized_height, resized_width)),\n",
        "    transforms.ToTensor()\n",
        "])"
      ],
      "metadata": {
        "id": "zLpMWVl4rq-T"
      },
      "execution_count": null,
      "outputs": []
    },
    {
      "cell_type": "code",
      "source": [
        "data_mask_transform = transforms.Compose([\n",
        "    transforms.Lambda(cut_img),\n",
        "    transforms.Resize(size=(resized_height, resized_width)),\n",
        "    transforms.Lambda(mask_img),\n",
        "    transforms.ToTensor()\n",
        "])"
      ],
      "metadata": {
        "id": "NWwk_ROLRbyx"
      },
      "execution_count": null,
      "outputs": []
    },
    {
      "cell_type": "code",
      "source": [
        "show_transformed_images(list(dataset['image_path']), transform=data_mask_transform)"
      ],
      "metadata": {
        "colab": {
          "base_uri": "https://localhost:8080/",
          "height": 755
        },
        "id": "_xH3GXHbxCeX",
        "outputId": "26a6eda8-0e4e-4962-fe62-6e187b251788"
      },
      "execution_count": null,
      "outputs": [
        {
          "output_type": "display_data",
          "data": {
            "text/plain": [
              "<Figure size 640x480 with 2 Axes>"
            ],
            "image/png": "[encoded data removed]"
          },
          "metadata": {}
        },
        {
          "output_type": "display_data",
          "data": {
            "text/plain": [
              "<Figure size 640x480 with 2 Axes>"
            ],
            "image/png": "[encoded data removed]"
          },
          "metadata": {}
        },
        {
          "output_type": "display_data",
          "data": {
            "text/plain": [
              "<Figure size 640x480 with 2 Axes>"
            ],
            "image/png": "[encoded data removed]"
          },
          "metadata": {}
        }
      ]
    },
    {
      "cell_type": "code",
      "source": [
        "loss_fn = nn.MSELoss()"
      ],
      "metadata": {
        "id": "RHnFM-HxDypN"
      },
      "execution_count": null,
      "outputs": []
    },
    {
      "cell_type": "markdown",
      "source": [
        "# Create custom dataset with masked images and original ones."
      ],
      "metadata": {
        "id": "RGEkX0jju5BX"
      }
    },
    {
      "cell_type": "code",
      "source": [
        "class CustomMaskedImageDataset(torch.utils.data.Dataset):\n",
        "  def __init__(self, paths, transform=None, mask_transform=None):\n",
        "    self.img_paths = paths\n",
        "    self.transform = transform\n",
        "    self.mask_transform = mask_transform\n",
        "\n",
        "  def __len__(self):\n",
        "    return len(self.img_paths)\n",
        "\n",
        "  def __getitem__(self, idx):\n",
        "    img_path = self.img_paths[idx]\n",
        "    image = Image.open(img_path).convert('L')\n",
        "\n",
        "    if self.transform:\n",
        "      original_image = self.transform(image)\n",
        "    else:\n",
        "      original_image = transforms.ToTensor()(image)\n",
        "\n",
        "    if self.mask_transform:\n",
        "      masked_image = self.mask_transform(image)\n",
        "    else:\n",
        "      masked_image = transforms.ToTensor()(image)\n",
        "\n",
        "    return masked_image, original_image\n"
      ],
      "metadata": {
        "id": "-mjz0-_8MyyT"
      },
      "execution_count": null,
      "outputs": []
    },
    {
      "cell_type": "code",
      "source": [
        "data = CustomMaskedImageDataset(dataset['image_path'],\n",
        "                                transform=data_transform,\n",
        "                                mask_transform=data_mask_transform)"
      ],
      "metadata": {
        "id": "lIqyfhxY_N2s"
      },
      "execution_count": null,
      "outputs": []
    },
    {
      "cell_type": "code",
      "source": [
        "dataloader = DataLoader(dataset=data,\n",
        "                        batch_size=32,\n",
        "                        num_workers=1,\n",
        "                        shuffle=True)"
      ],
      "metadata": {
        "id": "4JdLMfICAfRV"
      },
      "execution_count": null,
      "outputs": []
    },
    {
      "cell_type": "code",
      "source": [
        "class ContextPredictor(nn.Module):\n",
        "  def __init__(self, input_shape, hidden_units):\n",
        "    super().__init__()\n",
        "\n",
        "    #encoding layers\n",
        "\n",
        "    self.conv_block_1 = nn.Sequential(\n",
        "      nn.Conv2d(in_channels=input_shape,\n",
        "                    out_channels=hidden_units,\n",
        "                    kernel_size=3,\n",
        "                    stride=1,\n",
        "                    padding=1),\n",
        "      nn.ReLU(),\n",
        "      nn.Conv2d(in_channels=hidden_units,\n",
        "                    out_channels=hidden_units,\n",
        "                    kernel_size=3,\n",
        "                    stride=1,\n",
        "                    padding=1),\n",
        "      nn.ReLU(),\n",
        "      nn.Dropout(0.1),\n",
        "      nn.MaxPool2d(kernel_size=2,\n",
        "                      stride=2)\n",
        "      )\n",
        "\n",
        "    self.conv_block_2 = nn.Sequential(\n",
        "      nn.Conv2d(in_channels=hidden_units,\n",
        "                    out_channels=hidden_units,\n",
        "                    kernel_size=3,\n",
        "                    stride=1,\n",
        "                    padding=1),\n",
        "      nn.ReLU(),\n",
        "      nn.Conv2d(in_channels=hidden_units,\n",
        "                    out_channels=hidden_units,\n",
        "                    kernel_size=3,\n",
        "                    stride=1,\n",
        "                    padding=1),\n",
        "      nn.ReLU(),\n",
        "      nn.Dropout(0.1),\n",
        "      nn.MaxPool2d(kernel_size=2,\n",
        "                      stride=2)\n",
        "      )\n",
        "\n",
        "    self.encoder = nn.Sequential(\n",
        "      self.conv_block_1,\n",
        "      self.conv_block_2\n",
        "      )\n",
        "\n",
        "    #decoding layers\n",
        "\n",
        "    self.deconv_block_1 = nn.Sequential(\n",
        "        nn.ConvTranspose2d(in_channels=hidden_units,\n",
        "                          out_channels=hidden_units,\n",
        "                          kernel_size=3,\n",
        "                          stride=2,\n",
        "                          padding=1,\n",
        "                          output_padding=1), # Dodane output_padding\n",
        "        nn.ReLU(),\n",
        "        nn.ConvTranspose2d(in_channels=hidden_units,\n",
        "                          out_channels=hidden_units,\n",
        "                          kernel_size=3,\n",
        "                          stride=1,\n",
        "                          padding=1),\n",
        "        nn.ReLU(),\n",
        "        nn.Dropout(0.1)\n",
        "    )\n",
        "\n",
        "    self.deconv_block_2 = nn.Sequential(\n",
        "        nn.ConvTranspose2d(in_channels=hidden_units,\n",
        "                          out_channels=hidden_units,\n",
        "                          kernel_size=3,\n",
        "                          stride=2,\n",
        "                          padding=1,\n",
        "                          output_padding=1), # Dodane output_padding\n",
        "        nn.ReLU(),\n",
        "        nn.ConvTranspose2d(in_channels=hidden_units,\n",
        "                          out_channels=input_shape,\n",
        "                          kernel_size=3, # Zmienione na 3\n",
        "                          stride=1,\n",
        "                          padding=1)\n",
        "    )\n",
        "\n",
        "\n",
        "    self.decoder = nn.Sequential(\n",
        "      self.deconv_block_1,\n",
        "      self.deconv_block_2\n",
        "    )\n",
        "\n",
        "  @staticmethod #static function, not instanction method\n",
        "  def initialize_weights_xavier(m):\n",
        "    if isinstance(m, nn.Conv2d) or isinstance(m, nn.Linear):\n",
        "      nn.init.xavier_uniform_(m.weight)\n",
        "      if m.bias is not None: #if layer has a bias\n",
        "        nn.init.zeros_(m.bias) #set bias to 0\n",
        "\n",
        "\n",
        "  def forward(self, x):\n",
        "    x = self.encoder(x)\n",
        "    # print(x.shape)\n",
        "    x = self.decoder(x)\n",
        "    # print(x.shape)\n",
        "\n",
        "    return x"
      ],
      "metadata": {
        "id": "RmCb2NKbmMdb"
      },
      "execution_count": null,
      "outputs": []
    },
    {
      "cell_type": "code",
      "source": [
        "# import torch.nn as nn\n",
        "\n",
        "# class ContextPredictor(nn.Module):\n",
        "#     def __init__(self, input_shape=1, hidden_units=16):\n",
        "#         super(ContextPredictor, self).__init__()\n",
        "#         self.encoder = nn.Sequential(\n",
        "#             nn.Conv2d(input_shape, hidden_units, kernel_size=3, stride=1, padding=1),\n",
        "#             nn.ReLU(),\n",
        "#             nn.MaxPool2d(2)\n",
        "#         )\n",
        "#         self.decoder = nn.Sequential(\n",
        "#             nn.ConvTranspose2d(hidden_units, hidden_units, kernel_size=3, stride=2, padding=1, output_padding=1),\n",
        "#             nn.ReLU(),\n",
        "#             nn.ConvTranspose2d(hidden_units, input_shape, kernel_size=3, stride=1, padding=1)\n",
        "#         )\n",
        "\n",
        "#     def forward(self, x):\n",
        "#         x = self.encoder(x)\n",
        "#         x = self.decoder(x)\n",
        "#         return x\n"
      ],
      "metadata": {
        "id": "SCZ2HEPcmT7f"
      },
      "execution_count": null,
      "outputs": []
    },
    {
      "cell_type": "code",
      "source": [
        "loss_fn = nn.MSELoss()\n",
        "n_splits=3\n",
        "kfold = KFold(n_splits=n_splits, shuffle=True, random_state=42)\n",
        "img_paths = list(dataset['image_path'])\n",
        "cv_results = {}\n",
        "split = 0 #param for saving results each corss-val step\n",
        "actual_best_result = 1 #param for best model choosing\n",
        "\n",
        "for train_index, test_index in kfold.split(img_paths): #cross-validation\n",
        "\n",
        "  model = ContextPredictor(input_shape=1, #model initialization\n",
        "                         hidden_units=16)\n",
        "  model.apply(model.initialize_weights_xavier) #xavier weights initialization\n",
        "\n",
        "  train_paths = [img_paths[i] for i in train_index]\n",
        "  val_images = math.ceil(len(train_paths) * 0.15)\n",
        "  val_paths = train_paths[-val_images:]\n",
        "  train_paths = train_paths[:-val_images]\n",
        "  test_paths = [img_paths[i] for i in test_index]\n",
        "  split += 1\n",
        "\n",
        "  train_data = CustomMaskedImageDataset(paths=train_paths, transform=data_transform, mask_transform=data_mask_transform)\n",
        "  val_data = CustomMaskedImageDataset(paths=val_paths, transform=data_transform, mask_transform=data_mask_transform)\n",
        "  test_data = CustomMaskedImageDataset(paths=test_paths, transform=data_transform, mask_transform=data_mask_transform)\n",
        "\n",
        "  train_dataloader = DataLoader(dataset=train_data,\n",
        "                        batch_size=32,\n",
        "                        num_workers=1,\n",
        "                        shuffle=True)\n",
        "  val_dataloader = DataLoader(dataset=val_data,\n",
        "                              batch_size=32,\n",
        "                              num_workers=1,\n",
        "                              shuffle=False)\n",
        "  test_dataloader = DataLoader(dataset=test_data,\n",
        "                               batch_size=32,\n",
        "                               num_workers=1,\n",
        "                               shuffle=False)\n",
        "  # sample_inputs, _ = next(iter(train_dataloader))\n",
        "  # print(sample_inputs.shape)\n",
        "\n",
        "  train_loss_list, val_loss_list, epoch_counter = train_and_test(model=model,\n",
        "                 train_dataloader=train_dataloader,\n",
        "                 val_dataloader=val_dataloader,\n",
        "                 test_dataloader=test_dataloader,\n",
        "                 loss_fn=loss_fn,\n",
        "                 optimizer='Adam',\n",
        "                 device=device,\n",
        "                 save_model_name='inpainting_model',\n",
        "                 learning_rate=0.001,\n",
        "                 epochs=80)\n",
        "  cv_results[f' Train loss: {split}'] = train_loss_list\n",
        "  cv_results[f' Test loss: {split}'] = val_loss_list\n",
        "\n",
        "  #choose and save best model\n",
        "  best_result = np.min(val_loss_list)\n",
        "  if best_result < actual_best_result:\n",
        "    actual_best_result = best_result\n",
        "    torch.save(model.state_dict(), f'_inpainting_model_step_{split}_min_test_loss_{actual_best_result}')"
      ],
      "metadata": {
        "id": "KAxZU2oP-pfp",
        "colab": {
          "base_uri": "https://localhost:8080/"
        },
        "outputId": "8c8d020d-6a0b-4080-dd5a-b0296113dcb5"
      },
      "execution_count": null,
      "outputs": [
        {
          "output_type": "stream",
          "name": "stderr",
          "text": [
            "\r  0%|          | 0/80 [00:00<?, ?it/s]"
          ]
        },
        {
          "output_type": "stream",
          "name": "stdout",
          "text": [
            "Train loss: 0.01516 | Learning rate: 0.0009000000000000001\n",
            "Test loss: 0.00558\n"
          ]
        },
        {
          "output_type": "stream",
          "name": "stderr",
          "text": [
            "\r  1%|▏         | 1/80 [00:19<25:08, 19.10s/it]"
          ]
        },
        {
          "output_type": "stream",
          "name": "stdout",
          "text": [
            "Test loss: 0.00734\n",
            "Train loss: 0.00825 | Learning rate: 0.0008100000000000001\n",
            "Test loss: 0.00585\n"
          ]
        },
        {
          "output_type": "stream",
          "name": "stderr",
          "text": [
            "\r  2%|▎         | 2/80 [00:39<26:05, 20.07s/it]"
          ]
        },
        {
          "output_type": "stream",
          "name": "stdout",
          "text": [
            "Test loss: 0.00753\n",
            "Train loss: 0.00790 | Learning rate: 0.000729\n",
            "Test loss: 0.00563\n"
          ]
        },
        {
          "output_type": "stream",
          "name": "stderr",
          "text": [
            "\r  4%|▍         | 3/80 [00:59<25:14, 19.67s/it]"
          ]
        },
        {
          "output_type": "stream",
          "name": "stdout",
          "text": [
            "Test loss: 0.00691\n",
            "Train loss: 0.00654 | Learning rate: 0.0006561000000000001\n",
            "Test loss: 0.00354\n"
          ]
        },
        {
          "output_type": "stream",
          "name": "stderr",
          "text": [
            "\r  5%|▌         | 4/80 [01:18<24:57, 19.70s/it]"
          ]
        },
        {
          "output_type": "stream",
          "name": "stdout",
          "text": [
            "Test loss: 0.00466\n",
            "Train loss: 0.00352 | Learning rate: 0.00059049\n",
            "Test loss: 0.00183\n"
          ]
        },
        {
          "output_type": "stream",
          "name": "stderr",
          "text": [
            "\r  6%|▋         | 5/80 [01:39<24:56, 19.95s/it]"
          ]
        },
        {
          "output_type": "stream",
          "name": "stdout",
          "text": [
            "Test loss: 0.00222\n",
            "Train loss: 0.00219 | Learning rate: 0.000531441\n",
            "Test loss: 0.00149\n"
          ]
        },
        {
          "output_type": "stream",
          "name": "stderr",
          "text": [
            "\r  8%|▊         | 6/80 [01:58<24:19, 19.72s/it]"
          ]
        },
        {
          "output_type": "stream",
          "name": "stdout",
          "text": [
            "Test loss: 0.00196\n",
            "Train loss: 0.00172 | Learning rate: 0.0004782969\n",
            "Test loss: 0.00120\n"
          ]
        },
        {
          "output_type": "stream",
          "name": "stderr",
          "text": [
            "\r  9%|▉         | 7/80 [02:19<24:24, 20.07s/it]"
          ]
        },
        {
          "output_type": "stream",
          "name": "stdout",
          "text": [
            "Test loss: 0.00153\n",
            "Train loss: 0.00158 | Learning rate: 0.00043046721\n",
            "Test loss: 0.00108\n"
          ]
        },
        {
          "output_type": "stream",
          "name": "stderr",
          "text": [
            "\r 10%|█         | 8/80 [02:38<23:44, 19.79s/it]"
          ]
        },
        {
          "output_type": "stream",
          "name": "stdout",
          "text": [
            "Test loss: 0.00136\n",
            "Train loss: 0.00135 | Learning rate: 0.000387420489\n",
            "Test loss: 0.00103\n"
          ]
        },
        {
          "output_type": "stream",
          "name": "stderr",
          "text": [
            "\r 11%|█▏        | 9/80 [02:58<23:24, 19.78s/it]"
          ]
        },
        {
          "output_type": "stream",
          "name": "stdout",
          "text": [
            "Test loss: 0.00125\n",
            "Train loss: 0.00130 | Learning rate: 0.0003486784401\n",
            "Test loss: 0.00091\n"
          ]
        },
        {
          "output_type": "stream",
          "name": "stderr",
          "text": [
            "\r 12%|█▎        | 10/80 [03:17<22:55, 19.65s/it]"
          ]
        },
        {
          "output_type": "stream",
          "name": "stdout",
          "text": [
            "Test loss: 0.00112\n",
            "Train loss: 0.00116 | Learning rate: 0.00031381059609000004\n",
            "Test loss: 0.00078\n"
          ]
        },
        {
          "output_type": "stream",
          "name": "stderr",
          "text": [
            "\r 14%|█▍        | 11/80 [03:36<22:22, 19.46s/it]"
          ]
        },
        {
          "output_type": "stream",
          "name": "stdout",
          "text": [
            "Test loss: 0.00099\n",
            "Train loss: 0.00096 | Learning rate: 0.00028242953648100003\n",
            "Test loss: 0.00070\n"
          ]
        },
        {
          "output_type": "stream",
          "name": "stderr",
          "text": [
            "\r 15%|█▌        | 12/80 [03:56<22:21, 19.73s/it]"
          ]
        },
        {
          "output_type": "stream",
          "name": "stdout",
          "text": [
            "Test loss: 0.00089\n",
            "Train loss: 0.00090 | Learning rate: 0.00025418658283290005\n",
            "Test loss: 0.00066\n"
          ]
        },
        {
          "output_type": "stream",
          "name": "stderr",
          "text": [
            "\r 16%|█▋        | 13/80 [04:15<21:39, 19.40s/it]"
          ]
        },
        {
          "output_type": "stream",
          "name": "stdout",
          "text": [
            "Test loss: 0.00085\n",
            "Train loss: 0.00088 | Learning rate: 0.00022876792454961005\n",
            "Test loss: 0.00063\n"
          ]
        },
        {
          "output_type": "stream",
          "name": "stderr",
          "text": [
            "\r 18%|█▊        | 14/80 [04:35<21:27, 19.51s/it]"
          ]
        },
        {
          "output_type": "stream",
          "name": "stdout",
          "text": [
            "Test loss: 0.00080\n",
            "Train loss: 0.00080 | Learning rate: 0.00020589113209464906\n",
            "Test loss: 0.00059\n"
          ]
        },
        {
          "output_type": "stream",
          "name": "stderr",
          "text": [
            "\r 19%|█▉        | 15/80 [04:55<21:17, 19.65s/it]"
          ]
        },
        {
          "output_type": "stream",
          "name": "stdout",
          "text": [
            "Test loss: 0.00076\n",
            "Train loss: 0.00078 | Learning rate: 0.00018530201888518417\n",
            "Test loss: 0.00057\n"
          ]
        },
        {
          "output_type": "stream",
          "name": "stderr",
          "text": [
            "\r 20%|██        | 16/80 [05:14<20:49, 19.52s/it]"
          ]
        },
        {
          "output_type": "stream",
          "name": "stdout",
          "text": [
            "Test loss: 0.00074\n",
            "Train loss: 0.00075 | Learning rate: 0.00016677181699666576\n",
            "Test loss: 0.00056\n"
          ]
        },
        {
          "output_type": "stream",
          "name": "stderr",
          "text": [
            "\r 21%|██▏       | 17/80 [05:34<20:41, 19.71s/it]"
          ]
        },
        {
          "output_type": "stream",
          "name": "stdout",
          "text": [
            "Test loss: 0.00073\n",
            "Train loss: 0.00074 | Learning rate: 0.0001500946352969992\n",
            "Test loss: 0.00055\n"
          ]
        },
        {
          "output_type": "stream",
          "name": "stderr",
          "text": [
            "\r 22%|██▎       | 18/80 [05:53<20:03, 19.41s/it]"
          ]
        },
        {
          "output_type": "stream",
          "name": "stdout",
          "text": [
            "Test loss: 0.00070\n",
            "Train loss: 0.00075 | Learning rate: 0.0001350851717672993\n",
            "Test loss: 0.00054\n"
          ]
        },
        {
          "output_type": "stream",
          "name": "stderr",
          "text": [
            "\r 24%|██▍       | 19/80 [06:13<20:03, 19.72s/it]"
          ]
        },
        {
          "output_type": "stream",
          "name": "stdout",
          "text": [
            "Test loss: 0.00069\n",
            "Train loss: 0.00071 | Learning rate: 0.00012157665459056936\n",
            "Test loss: 0.00053\n"
          ]
        },
        {
          "output_type": "stream",
          "name": "stderr",
          "text": [
            "\r 25%|██▌       | 20/80 [06:33<19:36, 19.61s/it]"
          ]
        },
        {
          "output_type": "stream",
          "name": "stdout",
          "text": [
            "Test loss: 0.00068\n",
            "Train loss: 0.00073 | Learning rate: 0.00010941898913151243\n",
            "Test loss: 0.00052\n"
          ]
        },
        {
          "output_type": "stream",
          "name": "stderr",
          "text": [
            "\r 26%|██▋       | 21/80 [06:52<19:12, 19.54s/it]"
          ]
        },
        {
          "output_type": "stream",
          "name": "stdout",
          "text": [
            "Test loss: 0.00067\n",
            "Train loss: 0.00070 | Learning rate: 9.847709021836118e-05\n",
            "Test loss: 0.00051\n"
          ]
        },
        {
          "output_type": "stream",
          "name": "stderr",
          "text": [
            "\r 28%|██▊       | 22/80 [07:12<19:02, 19.71s/it]"
          ]
        },
        {
          "output_type": "stream",
          "name": "stdout",
          "text": [
            "Test loss: 0.00067\n",
            "Train loss: 0.00067 | Learning rate: 8.862938119652506e-05\n",
            "Test loss: 0.00051\n"
          ]
        },
        {
          "output_type": "stream",
          "name": "stderr",
          "text": [
            "\r 29%|██▉       | 23/80 [07:31<18:34, 19.55s/it]"
          ]
        },
        {
          "output_type": "stream",
          "name": "stdout",
          "text": [
            "Test loss: 0.00066\n",
            "Train loss: 0.00067 | Learning rate: 7.976644307687256e-05\n",
            "Test loss: 0.00050\n"
          ]
        },
        {
          "output_type": "stream",
          "name": "stderr",
          "text": [
            "\r 30%|███       | 24/80 [07:52<18:27, 19.78s/it]"
          ]
        },
        {
          "output_type": "stream",
          "name": "stdout",
          "text": [
            "Test loss: 0.00066\n",
            "Train loss: 0.00067 | Learning rate: 7.17897987691853e-05\n",
            "Test loss: 0.00050\n"
          ]
        },
        {
          "output_type": "stream",
          "name": "stderr",
          "text": [
            "\r 31%|███▏      | 25/80 [08:11<17:55, 19.55s/it]"
          ]
        },
        {
          "output_type": "stream",
          "name": "stdout",
          "text": [
            "Test loss: 0.00065\n",
            "Train loss: 0.00066 | Learning rate: 6.461081889226677e-05\n",
            "Test loss: 0.00050\n"
          ]
        },
        {
          "output_type": "stream",
          "name": "stderr",
          "text": [
            "\r 32%|███▎      | 26/80 [08:31<17:50, 19.82s/it]"
          ]
        },
        {
          "output_type": "stream",
          "name": "stdout",
          "text": [
            "Test loss: 0.00065\n",
            "Train loss: 0.00064 | Learning rate: 5.81497370030401e-05\n",
            "Test loss: 0.00049\n"
          ]
        },
        {
          "output_type": "stream",
          "name": "stderr",
          "text": [
            "\r 34%|███▍      | 27/80 [08:51<17:25, 19.73s/it]"
          ]
        },
        {
          "output_type": "stream",
          "name": "stdout",
          "text": [
            "Test loss: 0.00064\n",
            "Train loss: 0.00068 | Learning rate: 5.233476330273609e-05\n",
            "Test loss: 0.00049\n"
          ]
        },
        {
          "output_type": "stream",
          "name": "stderr",
          "text": [
            "\r 35%|███▌      | 28/80 [09:10<16:59, 19.60s/it]"
          ]
        },
        {
          "output_type": "stream",
          "name": "stdout",
          "text": [
            "Test loss: 0.00064\n",
            "Train loss: 0.00068 | Learning rate: 4.7101286972462485e-05\n",
            "Test loss: 0.00049\n"
          ]
        },
        {
          "output_type": "stream",
          "name": "stderr",
          "text": [
            "\r 36%|███▋      | 29/80 [09:31<17:00, 20.00s/it]"
          ]
        },
        {
          "output_type": "stream",
          "name": "stdout",
          "text": [
            "Test loss: 0.00064\n",
            "Train loss: 0.00065 | Learning rate: 4.239115827521624e-05\n",
            "Test loss: 0.00049\n"
          ]
        },
        {
          "output_type": "stream",
          "name": "stderr",
          "text": [
            "\r 38%|███▊      | 30/80 [09:51<16:39, 19.99s/it]"
          ]
        },
        {
          "output_type": "stream",
          "name": "stdout",
          "text": [
            "Test loss: 0.00063\n",
            "Train loss: 0.00064 | Learning rate: 3.8152042447694614e-05\n",
            "Test loss: 0.00049\n"
          ]
        },
        {
          "output_type": "stream",
          "name": "stderr",
          "text": [
            "\r 39%|███▉      | 31/80 [10:12<16:31, 20.24s/it]"
          ]
        },
        {
          "output_type": "stream",
          "name": "stdout",
          "text": [
            "Test loss: 0.00063\n",
            "Train loss: 0.00065 | Learning rate: 3.433683820292515e-05\n",
            "Test loss: 0.00048\n"
          ]
        },
        {
          "output_type": "stream",
          "name": "stderr",
          "text": [
            "\r 40%|████      | 32/80 [10:31<15:54, 19.88s/it]"
          ]
        },
        {
          "output_type": "stream",
          "name": "stdout",
          "text": [
            "Test loss: 0.00063\n",
            "Train loss: 0.00065 | Learning rate: 3.090315438263264e-05\n",
            "Test loss: 0.00048\n"
          ]
        },
        {
          "output_type": "stream",
          "name": "stderr",
          "text": [
            "\r 41%|████▏     | 33/80 [10:51<15:46, 20.14s/it]"
          ]
        },
        {
          "output_type": "stream",
          "name": "stdout",
          "text": [
            "Test loss: 0.00063\n",
            "Train loss: 0.00066 | Learning rate: 2.7812838944369376e-05\n",
            "Test loss: 0.00048\n"
          ]
        },
        {
          "output_type": "stream",
          "name": "stderr",
          "text": [
            "\r 42%|████▎     | 34/80 [11:10<15:07, 19.73s/it]"
          ]
        },
        {
          "output_type": "stream",
          "name": "stdout",
          "text": [
            "Test loss: 0.00063\n",
            "Train loss: 0.00065 | Learning rate: 2.503155504993244e-05\n",
            "Test loss: 0.00048\n"
          ]
        },
        {
          "output_type": "stream",
          "name": "stderr",
          "text": [
            "\r 44%|████▍     | 35/80 [11:30<14:42, 19.60s/it]"
          ]
        },
        {
          "output_type": "stream",
          "name": "stdout",
          "text": [
            "Test loss: 0.00063\n",
            "Train loss: 0.00066 | Learning rate: 2.2528399544939195e-05\n",
            "Test loss: 0.00048\n"
          ]
        },
        {
          "output_type": "stream",
          "name": "stderr",
          "text": [
            "\r 45%|████▌     | 36/80 [11:49<14:21, 19.59s/it]"
          ]
        },
        {
          "output_type": "stream",
          "name": "stdout",
          "text": [
            "Test loss: 0.00062\n",
            "Train loss: 0.00065 | Learning rate: 2.0275559590445276e-05\n",
            "Test loss: 0.00048\n"
          ]
        },
        {
          "output_type": "stream",
          "name": "stderr",
          "text": [
            "\r 46%|████▋     | 37/80 [12:08<13:48, 19.27s/it]"
          ]
        },
        {
          "output_type": "stream",
          "name": "stdout",
          "text": [
            "Test loss: 0.00062\n",
            "Train loss: 0.00064 | Learning rate: 1.8248003631400748e-05\n",
            "Test loss: 0.00048\n"
          ]
        },
        {
          "output_type": "stream",
          "name": "stderr",
          "text": [
            "\r 48%|████▊     | 38/80 [12:28<13:39, 19.51s/it]"
          ]
        },
        {
          "output_type": "stream",
          "name": "stdout",
          "text": [
            "Test loss: 0.00062\n",
            "Train loss: 0.00063 | Learning rate: 1.6423203268260675e-05\n",
            "Test loss: 0.00048\n"
          ]
        },
        {
          "output_type": "stream",
          "name": "stderr",
          "text": [
            "\r 49%|████▉     | 39/80 [12:47<13:17, 19.44s/it]"
          ]
        },
        {
          "output_type": "stream",
          "name": "stdout",
          "text": [
            "Test loss: 0.00062\n",
            "Train loss: 0.00067 | Learning rate: 1.4780882941434607e-05\n",
            "Test loss: 0.00047\n"
          ]
        },
        {
          "output_type": "stream",
          "name": "stderr",
          "text": [
            "\r 50%|█████     | 40/80 [13:06<12:47, 19.18s/it]"
          ]
        },
        {
          "output_type": "stream",
          "name": "stdout",
          "text": [
            "Test loss: 0.00062\n",
            "Train loss: 0.00065 | Learning rate: 1.3302794647291146e-05\n",
            "Test loss: 0.00047\n"
          ]
        },
        {
          "output_type": "stream",
          "name": "stderr",
          "text": [
            "\r 51%|█████▏    | 41/80 [13:25<12:36, 19.40s/it]"
          ]
        },
        {
          "output_type": "stream",
          "name": "stdout",
          "text": [
            "Test loss: 0.00062\n",
            "Train loss: 0.00063 | Learning rate: 1.1972515182562031e-05\n",
            "Test loss: 0.00047\n"
          ]
        },
        {
          "output_type": "stream",
          "name": "stderr",
          "text": [
            "\r 52%|█████▎    | 42/80 [13:44<12:04, 19.06s/it]"
          ]
        },
        {
          "output_type": "stream",
          "name": "stdout",
          "text": [
            "Test loss: 0.00062\n",
            "Train loss: 0.00064 | Learning rate: 1.0775263664305828e-05\n",
            "Test loss: 0.00047\n"
          ]
        },
        {
          "output_type": "stream",
          "name": "stderr",
          "text": [
            "\r 54%|█████▍    | 43/80 [14:03<11:43, 19.02s/it]"
          ]
        },
        {
          "output_type": "stream",
          "name": "stdout",
          "text": [
            "Test loss: 0.00062\n",
            "Train loss: 0.00061 | Learning rate: 9.697737297875246e-06\n",
            "Test loss: 0.00047\n"
          ]
        },
        {
          "output_type": "stream",
          "name": "stderr",
          "text": [
            "\r 55%|█████▌    | 44/80 [14:22<11:31, 19.22s/it]"
          ]
        },
        {
          "output_type": "stream",
          "name": "stdout",
          "text": [
            "Test loss: 0.00062\n",
            "Train loss: 0.00064 | Learning rate: 8.727963568087722e-06\n",
            "Test loss: 0.00047\n"
          ]
        },
        {
          "output_type": "stream",
          "name": "stderr",
          "text": [
            "\r 56%|█████▋    | 45/80 [14:41<11:05, 19.00s/it]"
          ]
        },
        {
          "output_type": "stream",
          "name": "stdout",
          "text": [
            "Test loss: 0.00062\n",
            "Train loss: 0.00063 | Learning rate: 7.85516721127895e-06\n",
            "Test loss: 0.00047\n"
          ]
        },
        {
          "output_type": "stream",
          "name": "stderr",
          "text": [
            "\r 57%|█████▊    | 46/80 [15:01<10:58, 19.36s/it]"
          ]
        },
        {
          "output_type": "stream",
          "name": "stdout",
          "text": [
            "Test loss: 0.00062\n",
            "Train loss: 0.00064 | Learning rate: 7.069650490151056e-06\n",
            "Test loss: 0.00047\n"
          ]
        },
        {
          "output_type": "stream",
          "name": "stderr",
          "text": [
            "\r 59%|█████▉    | 47/80 [15:19<10:28, 19.03s/it]"
          ]
        },
        {
          "output_type": "stream",
          "name": "stdout",
          "text": [
            "Test loss: 0.00062\n",
            "Train loss: 0.00062 | Learning rate: 6.362685441135951e-06\n",
            "Test loss: 0.00047\n"
          ]
        },
        {
          "output_type": "stream",
          "name": "stderr",
          "text": [
            "\r 60%|██████    | 48/80 [15:38<10:05, 18.92s/it]"
          ]
        },
        {
          "output_type": "stream",
          "name": "stdout",
          "text": [
            "Test loss: 0.00061\n",
            "Train loss: 0.00063 | Learning rate: 5.7264168970223554e-06\n",
            "Test loss: 0.00047\n"
          ]
        },
        {
          "output_type": "stream",
          "name": "stderr",
          "text": [
            "\r 61%|██████▏   | 49/80 [15:58<09:55, 19.21s/it]"
          ]
        },
        {
          "output_type": "stream",
          "name": "stdout",
          "text": [
            "Test loss: 0.00061\n",
            "Train loss: 0.00062 | Learning rate: 5.15377520732012e-06\n",
            "Test loss: 0.00047\n"
          ]
        },
        {
          "output_type": "stream",
          "name": "stderr",
          "text": [
            "\r 62%|██████▎   | 50/80 [16:16<09:27, 18.93s/it]"
          ]
        },
        {
          "output_type": "stream",
          "name": "stdout",
          "text": [
            "Test loss: 0.00061\n",
            "Train loss: 0.00063 | Learning rate: 4.638397686588108e-06\n",
            "Test loss: 0.00047\n"
          ]
        },
        {
          "output_type": "stream",
          "name": "stderr",
          "text": [
            "\r 64%|██████▍   | 51/80 [16:35<09:11, 19.02s/it]"
          ]
        },
        {
          "output_type": "stream",
          "name": "stdout",
          "text": [
            "Test loss: 0.00061\n",
            "Train loss: 0.00064 | Learning rate: 4.174557917929298e-06\n",
            "Test loss: 0.00047\n"
          ]
        },
        {
          "output_type": "stream",
          "name": "stderr",
          "text": [
            "\r 65%|██████▌   | 52/80 [16:55<08:55, 19.13s/it]"
          ]
        },
        {
          "output_type": "stream",
          "name": "stdout",
          "text": [
            "Test loss: 0.00061\n",
            "Train loss: 0.00063 | Learning rate: 3.7571021261363684e-06\n",
            "Test loss: 0.00047\n"
          ]
        },
        {
          "output_type": "stream",
          "name": "stderr",
          "text": [
            "\r 66%|██████▋   | 53/80 [17:13<08:31, 18.96s/it]"
          ]
        },
        {
          "output_type": "stream",
          "name": "stdout",
          "text": [
            "Test loss: 0.00061\n",
            "Train loss: 0.00062 | Learning rate: 3.3813919135227317e-06\n",
            "Test loss: 0.00047\n"
          ]
        },
        {
          "output_type": "stream",
          "name": "stderr",
          "text": [
            "\r 68%|██████▊   | 54/80 [17:33<08:20, 19.25s/it]"
          ]
        },
        {
          "output_type": "stream",
          "name": "stdout",
          "text": [
            "Test loss: 0.00061\n",
            "Train loss: 0.00066 | Learning rate: 3.0432527221704586e-06\n",
            "Test loss: 0.00047\n"
          ]
        },
        {
          "output_type": "stream",
          "name": "stderr",
          "text": [
            "\r 69%|██████▉   | 55/80 [17:52<07:58, 19.13s/it]"
          ]
        },
        {
          "output_type": "stream",
          "name": "stdout",
          "text": [
            "Test loss: 0.00061\n",
            "Train loss: 0.00062 | Learning rate: 2.7389274499534128e-06\n",
            "Test loss: 0.00047\n"
          ]
        },
        {
          "output_type": "stream",
          "name": "stderr",
          "text": [
            "\r 70%|███████   | 56/80 [18:11<07:34, 18.93s/it]"
          ]
        },
        {
          "output_type": "stream",
          "name": "stdout",
          "text": [
            "Test loss: 0.00061\n",
            "Train loss: 0.00063 | Learning rate: 2.4650347049580716e-06\n",
            "Test loss: 0.00047\n"
          ]
        },
        {
          "output_type": "stream",
          "name": "stderr",
          "text": [
            "\r 71%|███████▏  | 57/80 [18:31<07:23, 19.27s/it]"
          ]
        },
        {
          "output_type": "stream",
          "name": "stdout",
          "text": [
            "Test loss: 0.00061\n",
            "Train loss: 0.00062 | Learning rate: 2.2185312344622644e-06\n",
            "Test loss: 0.00047\n"
          ]
        },
        {
          "output_type": "stream",
          "name": "stderr",
          "text": [
            "\r 72%|███████▎  | 58/80 [18:49<07:00, 19.10s/it]"
          ]
        },
        {
          "output_type": "stream",
          "name": "stdout",
          "text": [
            "Test loss: 0.00061\n",
            "Train loss: 0.00062 | Learning rate: 1.996678111016038e-06\n",
            "Test loss: 0.00047\n"
          ]
        },
        {
          "output_type": "stream",
          "name": "stderr",
          "text": [
            "\r 74%|███████▍  | 59/80 [19:09<06:42, 19.15s/it]"
          ]
        },
        {
          "output_type": "stream",
          "name": "stdout",
          "text": [
            "Test loss: 0.00061\n",
            "Train loss: 0.00061 | Learning rate: 1.7970102999144342e-06\n",
            "Test loss: 0.00047\n"
          ]
        },
        {
          "output_type": "stream",
          "name": "stderr",
          "text": [
            "\r 75%|███████▌  | 60/80 [19:27<06:20, 19.01s/it]"
          ]
        },
        {
          "output_type": "stream",
          "name": "stdout",
          "text": [
            "Test loss: 0.00061\n",
            "Train loss: 0.00065 | Learning rate: 1.6173092699229909e-06\n",
            "Test loss: 0.00047\n"
          ]
        },
        {
          "output_type": "stream",
          "name": "stderr",
          "text": [
            "\r 76%|███████▋  | 61/80 [19:46<05:59, 18.92s/it]"
          ]
        },
        {
          "output_type": "stream",
          "name": "stdout",
          "text": [
            "Test loss: 0.00061\n",
            "Train loss: 0.00063 | Learning rate: 1.4555783429306917e-06\n",
            "Test loss: 0.00047\n"
          ]
        },
        {
          "output_type": "stream",
          "name": "stderr",
          "text": [
            "\r 78%|███████▊  | 62/80 [20:06<05:45, 19.19s/it]"
          ]
        },
        {
          "output_type": "stream",
          "name": "stdout",
          "text": [
            "Test loss: 0.00061\n",
            "Train loss: 0.00062 | Learning rate: 1.3100205086376225e-06\n",
            "Test loss: 0.00047\n"
          ]
        },
        {
          "output_type": "stream",
          "name": "stderr",
          "text": [
            "\r 79%|███████▉  | 63/80 [20:24<05:21, 18.88s/it]"
          ]
        },
        {
          "output_type": "stream",
          "name": "stdout",
          "text": [
            "Test loss: 0.00061\n",
            "Train loss: 0.00065 | Learning rate: 1.1790184577738603e-06\n",
            "Test loss: 0.00047\n"
          ]
        },
        {
          "output_type": "stream",
          "name": "stderr",
          "text": [
            "\r 80%|████████  | 64/80 [20:42<04:58, 18.63s/it]"
          ]
        },
        {
          "output_type": "stream",
          "name": "stdout",
          "text": [
            "Test loss: 0.00061\n",
            "Train loss: 0.00062 | Learning rate: 1.0611166119964742e-06\n",
            "Test loss: 0.00047\n"
          ]
        },
        {
          "output_type": "stream",
          "name": "stderr",
          "text": [
            "\r 81%|████████▏ | 65/80 [21:02<04:45, 19.01s/it]"
          ]
        },
        {
          "output_type": "stream",
          "name": "stdout",
          "text": [
            "Test loss: 0.00061\n",
            "Train loss: 0.00062 | Learning rate: 9.550049507968269e-07\n",
            "Test loss: 0.00047\n"
          ]
        },
        {
          "output_type": "stream",
          "name": "stderr",
          "text": [
            "\r 82%|████████▎ | 66/80 [21:20<04:23, 18.80s/it]"
          ]
        },
        {
          "output_type": "stream",
          "name": "stdout",
          "text": [
            "Test loss: 0.00061\n",
            "Train loss: 0.00064 | Learning rate: 8.595044557171442e-07\n",
            "Test loss: 0.00047\n"
          ]
        },
        {
          "output_type": "stream",
          "name": "stderr",
          "text": [
            "\r 84%|████████▍ | 67/80 [21:38<04:01, 18.60s/it]"
          ]
        },
        {
          "output_type": "stream",
          "name": "stdout",
          "text": [
            "Test loss: 0.00061\n",
            "Train loss: 0.00062 | Learning rate: 7.735540101454298e-07\n",
            "Test loss: 0.00047\n"
          ]
        },
        {
          "output_type": "stream",
          "name": "stderr",
          "text": [
            "\r 85%|████████▌ | 68/80 [21:58<03:47, 18.98s/it]"
          ]
        },
        {
          "output_type": "stream",
          "name": "stdout",
          "text": [
            "Test loss: 0.00061\n",
            "Train loss: 0.00064 | Learning rate: 6.961986091308869e-07\n",
            "Test loss: 0.00047\n"
          ]
        },
        {
          "output_type": "stream",
          "name": "stderr",
          "text": [
            "\r 86%|████████▋ | 69/80 [22:16<03:26, 18.78s/it]"
          ]
        },
        {
          "output_type": "stream",
          "name": "stdout",
          "text": [
            "Test loss: 0.00061\n",
            "Train loss: 0.00064 | Learning rate: 6.265787482177982e-07\n",
            "Test loss: 0.00047\n"
          ]
        },
        {
          "output_type": "stream",
          "name": "stderr",
          "text": [
            "\r 88%|████████▊ | 70/80 [22:39<03:18, 19.83s/it]"
          ]
        },
        {
          "output_type": "stream",
          "name": "stdout",
          "text": [
            "Test loss: 0.00061\n",
            "Train loss: 0.00062 | Learning rate: 5.639208733960183e-07\n",
            "Test loss: 0.00047\n"
          ]
        },
        {
          "output_type": "stream",
          "name": "stderr",
          "text": [
            "\r 89%|████████▉ | 71/80 [22:57<02:54, 19.38s/it]"
          ]
        },
        {
          "output_type": "stream",
          "name": "stdout",
          "text": [
            "Test loss: 0.00061\n",
            "Train loss: 0.00065 | Learning rate: 5.075287860564165e-07\n",
            "Test loss: 0.00047\n"
          ]
        },
        {
          "output_type": "stream",
          "name": "stderr",
          "text": [
            "\r 90%|█████████ | 72/80 [23:16<02:33, 19.23s/it]"
          ]
        },
        {
          "output_type": "stream",
          "name": "stdout",
          "text": [
            "Test loss: 0.00061\n",
            "Train loss: 0.00063 | Learning rate: 4.567759074507748e-07\n",
            "Test loss: 0.00047\n"
          ]
        },
        {
          "output_type": "stream",
          "name": "stderr",
          "text": [
            "\r 91%|█████████▏| 73/80 [23:35<02:15, 19.32s/it]"
          ]
        },
        {
          "output_type": "stream",
          "name": "stdout",
          "text": [
            "Test loss: 0.00061\n",
            "Train loss: 0.00065 | Learning rate: 4.1109831670569735e-07\n",
            "Test loss: 0.00047\n"
          ]
        },
        {
          "output_type": "stream",
          "name": "stderr",
          "text": [
            "\r 92%|█████████▎| 74/80 [23:54<01:53, 18.95s/it]"
          ]
        },
        {
          "output_type": "stream",
          "name": "stdout",
          "text": [
            "Test loss: 0.00061\n",
            "Train loss: 0.00062 | Learning rate: 3.699884850351276e-07\n",
            "Test loss: 0.00047\n"
          ]
        },
        {
          "output_type": "stream",
          "name": "stderr",
          "text": [
            "\r 94%|█████████▍| 75/80 [24:12<01:34, 18.83s/it]"
          ]
        },
        {
          "output_type": "stream",
          "name": "stdout",
          "text": [
            "Test loss: 0.00061\n",
            "Train loss: 0.00063 | Learning rate: 3.329896365316149e-07\n",
            "Test loss: 0.00047\n"
          ]
        },
        {
          "output_type": "stream",
          "name": "stderr",
          "text": [
            "\r 94%|█████████▍| 75/80 [24:32<01:38, 19.63s/it]\n"
          ]
        },
        {
          "output_type": "stream",
          "name": "stdout",
          "text": [
            "Test loss: 0.00061\n",
            "Early stopping!\n"
          ]
        },
        {
          "output_type": "stream",
          "name": "stderr",
          "text": [
            "\r  0%|          | 0/80 [00:00<?, ?it/s]"
          ]
        },
        {
          "output_type": "stream",
          "name": "stdout",
          "text": [
            "Train loss: 0.13836 | Learning rate: 0.0009000000000000001\n",
            "Test loss: 0.00938\n"
          ]
        },
        {
          "output_type": "stream",
          "name": "stderr",
          "text": [
            "\r  1%|▏         | 1/80 [00:18<24:13, 18.40s/it]"
          ]
        },
        {
          "output_type": "stream",
          "name": "stdout",
          "text": [
            "Test loss: 0.01066\n",
            "Train loss: 0.01022 | Learning rate: 0.0008100000000000001\n",
            "Test loss: 0.00544\n"
          ]
        },
        {
          "output_type": "stream",
          "name": "stderr",
          "text": [
            "\r  2%|▎         | 2/80 [00:38<25:11, 19.37s/it]"
          ]
        },
        {
          "output_type": "stream",
          "name": "stdout",
          "text": [
            "Test loss: 0.00585\n",
            "Train loss: 0.00499 | Learning rate: 0.000729\n",
            "Test loss: 0.00336\n"
          ]
        },
        {
          "output_type": "stream",
          "name": "stderr",
          "text": [
            "\r  4%|▍         | 3/80 [00:56<24:06, 18.78s/it]"
          ]
        },
        {
          "output_type": "stream",
          "name": "stdout",
          "text": [
            "Test loss: 0.00430\n",
            "Train loss: 0.00424 | Learning rate: 0.0006561000000000001\n",
            "Test loss: 0.00291\n"
          ]
        },
        {
          "output_type": "stream",
          "name": "stderr",
          "text": [
            "\r  5%|▌         | 4/80 [01:14<23:24, 18.48s/it]"
          ]
        },
        {
          "output_type": "stream",
          "name": "stdout",
          "text": [
            "Test loss: 0.00371\n",
            "Train loss: 0.00357 | Learning rate: 0.00059049\n",
            "Test loss: 0.00261\n"
          ]
        },
        {
          "output_type": "stream",
          "name": "stderr",
          "text": [
            "\r  6%|▋         | 5/80 [01:34<23:35, 18.87s/it]"
          ]
        },
        {
          "output_type": "stream",
          "name": "stdout",
          "text": [
            "Test loss: 0.00311\n",
            "Train loss: 0.00288 | Learning rate: 0.000531441\n",
            "Test loss: 0.00207\n"
          ]
        },
        {
          "output_type": "stream",
          "name": "stderr",
          "text": [
            "\r  8%|▊         | 6/80 [01:52<22:54, 18.58s/it]"
          ]
        },
        {
          "output_type": "stream",
          "name": "stdout",
          "text": [
            "Test loss: 0.00249\n",
            "Train loss: 0.00235 | Learning rate: 0.0004782969\n",
            "Test loss: 0.00158\n"
          ]
        },
        {
          "output_type": "stream",
          "name": "stderr",
          "text": [
            "\r  9%|▉         | 7/80 [02:10<22:31, 18.52s/it]"
          ]
        },
        {
          "output_type": "stream",
          "name": "stdout",
          "text": [
            "Test loss: 0.00200\n",
            "Train loss: 0.00207 | Learning rate: 0.00043046721\n",
            "Test loss: 0.00137\n"
          ]
        },
        {
          "output_type": "stream",
          "name": "stderr",
          "text": [
            "\r 10%|█         | 8/80 [02:30<22:40, 18.90s/it]"
          ]
        },
        {
          "output_type": "stream",
          "name": "stdout",
          "text": [
            "Test loss: 0.00175\n",
            "Train loss: 0.00180 | Learning rate: 0.000387420489\n",
            "Test loss: 0.00125\n"
          ]
        },
        {
          "output_type": "stream",
          "name": "stderr",
          "text": [
            "\r 11%|█▏        | 9/80 [02:48<22:07, 18.70s/it]"
          ]
        },
        {
          "output_type": "stream",
          "name": "stdout",
          "text": [
            "Test loss: 0.00160\n",
            "Train loss: 0.00169 | Learning rate: 0.0003486784401\n",
            "Test loss: 0.00123\n"
          ]
        },
        {
          "output_type": "stream",
          "name": "stderr",
          "text": [
            "\r 12%|█▎        | 10/80 [03:06<21:40, 18.57s/it]"
          ]
        },
        {
          "output_type": "stream",
          "name": "stdout",
          "text": [
            "Test loss: 0.00155\n",
            "Train loss: 0.00160 | Learning rate: 0.00031381059609000004\n",
            "Test loss: 0.00112\n"
          ]
        },
        {
          "output_type": "stream",
          "name": "stderr",
          "text": [
            "\r 14%|█▍        | 11/80 [03:26<21:50, 18.99s/it]"
          ]
        },
        {
          "output_type": "stream",
          "name": "stdout",
          "text": [
            "Test loss: 0.00145\n",
            "Train loss: 0.00160 | Learning rate: 0.00028242953648100003\n",
            "Test loss: 0.00114\n"
          ]
        },
        {
          "output_type": "stream",
          "name": "stderr",
          "text": [
            "\r 15%|█▌        | 12/80 [03:45<21:22, 18.86s/it]"
          ]
        },
        {
          "output_type": "stream",
          "name": "stdout",
          "text": [
            "Test loss: 0.00143\n",
            "Train loss: 0.00147 | Learning rate: 0.00025418658283290005\n",
            "Test loss: 0.00106\n"
          ]
        },
        {
          "output_type": "stream",
          "name": "stderr",
          "text": [
            "\r 16%|█▋        | 13/80 [04:04<21:05, 18.89s/it]"
          ]
        },
        {
          "output_type": "stream",
          "name": "stdout",
          "text": [
            "Test loss: 0.00139\n",
            "Train loss: 0.00148 | Learning rate: 0.00022876792454961005\n",
            "Test loss: 0.00110\n"
          ]
        },
        {
          "output_type": "stream",
          "name": "stderr",
          "text": [
            "\r 18%|█▊        | 14/80 [04:23<20:44, 18.86s/it]"
          ]
        },
        {
          "output_type": "stream",
          "name": "stdout",
          "text": [
            "Test loss: 0.00138\n",
            "Train loss: 0.00164 | Learning rate: 0.00020589113209464906\n",
            "Test loss: 0.00123\n"
          ]
        },
        {
          "output_type": "stream",
          "name": "stderr",
          "text": [
            "\r 19%|█▉        | 15/80 [04:41<20:13, 18.66s/it]"
          ]
        },
        {
          "output_type": "stream",
          "name": "stdout",
          "text": [
            "Test loss: 0.00148\n",
            "Train loss: 0.00153 | Learning rate: 0.00018530201888518417\n",
            "Test loss: 0.00109\n"
          ]
        },
        {
          "output_type": "stream",
          "name": "stderr",
          "text": [
            "\r 19%|█▉        | 15/80 [05:00<21:41, 20.03s/it]\n"
          ]
        },
        {
          "output_type": "stream",
          "name": "stdout",
          "text": [
            "Test loss: 0.00137\n",
            "Early stopping!\n"
          ]
        },
        {
          "output_type": "stream",
          "name": "stderr",
          "text": [
            "\r  0%|          | 0/80 [00:00<?, ?it/s]"
          ]
        },
        {
          "output_type": "stream",
          "name": "stdout",
          "text": [
            "Train loss: 0.02385 | Learning rate: 0.0009000000000000001\n",
            "Test loss: 0.00538\n"
          ]
        },
        {
          "output_type": "stream",
          "name": "stderr",
          "text": [
            "\r  1%|▏         | 1/80 [00:18<24:23, 18.52s/it]"
          ]
        },
        {
          "output_type": "stream",
          "name": "stdout",
          "text": [
            "Test loss: 0.00794\n",
            "Train loss: 0.00855 | Learning rate: 0.0008100000000000001\n",
            "Test loss: 0.00591\n"
          ]
        },
        {
          "output_type": "stream",
          "name": "stderr",
          "text": [
            "\r  2%|▎         | 2/80 [00:36<23:48, 18.31s/it]"
          ]
        },
        {
          "output_type": "stream",
          "name": "stdout",
          "text": [
            "Test loss: 0.00808\n",
            "Train loss: 0.00777 | Learning rate: 0.000729\n",
            "Test loss: 0.00527\n"
          ]
        },
        {
          "output_type": "stream",
          "name": "stderr",
          "text": [
            "\r  4%|▍         | 3/80 [00:56<24:10, 18.84s/it]"
          ]
        },
        {
          "output_type": "stream",
          "name": "stdout",
          "text": [
            "Test loss: 0.00714\n",
            "Train loss: 0.00680 | Learning rate: 0.0006561000000000001\n",
            "Test loss: 0.00418\n"
          ]
        },
        {
          "output_type": "stream",
          "name": "stderr",
          "text": [
            "\r  5%|▌         | 4/80 [01:14<23:29, 18.55s/it]"
          ]
        },
        {
          "output_type": "stream",
          "name": "stdout",
          "text": [
            "Test loss: 0.00544\n",
            "Train loss: 0.00445 | Learning rate: 0.00059049\n",
            "Test loss: 0.00295\n"
          ]
        },
        {
          "output_type": "stream",
          "name": "stderr",
          "text": [
            "\r  6%|▋         | 5/80 [01:32<23:05, 18.47s/it]"
          ]
        },
        {
          "output_type": "stream",
          "name": "stdout",
          "text": [
            "Test loss: 0.00341\n",
            "Train loss: 0.00255 | Learning rate: 0.000531441\n",
            "Test loss: 0.00162\n"
          ]
        },
        {
          "output_type": "stream",
          "name": "stderr",
          "text": [
            "\r  8%|▊         | 6/80 [01:52<23:13, 18.83s/it]"
          ]
        },
        {
          "output_type": "stream",
          "name": "stdout",
          "text": [
            "Test loss: 0.00195\n",
            "Train loss: 0.00194 | Learning rate: 0.0004782969\n",
            "Test loss: 0.00132\n"
          ]
        },
        {
          "output_type": "stream",
          "name": "stderr",
          "text": [
            "\r  9%|▉         | 7/80 [02:10<22:34, 18.55s/it]"
          ]
        },
        {
          "output_type": "stream",
          "name": "stdout",
          "text": [
            "Test loss: 0.00162\n",
            "Train loss: 0.00162 | Learning rate: 0.00043046721\n",
            "Test loss: 0.00134\n"
          ]
        },
        {
          "output_type": "stream",
          "name": "stderr",
          "text": [
            "\r 10%|█         | 8/80 [02:28<22:05, 18.41s/it]"
          ]
        },
        {
          "output_type": "stream",
          "name": "stdout",
          "text": [
            "Test loss: 0.00153\n",
            "Train loss: 0.00140 | Learning rate: 0.000387420489\n",
            "Test loss: 0.00099\n"
          ]
        },
        {
          "output_type": "stream",
          "name": "stderr",
          "text": [
            "\r 11%|█▏        | 9/80 [02:47<22:11, 18.75s/it]"
          ]
        },
        {
          "output_type": "stream",
          "name": "stdout",
          "text": [
            "Test loss: 0.00119\n",
            "Train loss: 0.00120 | Learning rate: 0.0003486784401\n",
            "Test loss: 0.00091\n"
          ]
        },
        {
          "output_type": "stream",
          "name": "stderr",
          "text": [
            "\r 12%|█▎        | 10/80 [03:05<21:35, 18.51s/it]"
          ]
        },
        {
          "output_type": "stream",
          "name": "stdout",
          "text": [
            "Test loss: 0.00109\n",
            "Train loss: 0.00115 | Learning rate: 0.00031381059609000004\n",
            "Test loss: 0.00084\n"
          ]
        },
        {
          "output_type": "stream",
          "name": "stderr",
          "text": [
            "\r 14%|█▍        | 11/80 [03:24<21:16, 18.50s/it]"
          ]
        },
        {
          "output_type": "stream",
          "name": "stdout",
          "text": [
            "Test loss: 0.00100\n",
            "Train loss: 0.00103 | Learning rate: 0.00028242953648100003\n",
            "Test loss: 0.00076\n"
          ]
        },
        {
          "output_type": "stream",
          "name": "stderr",
          "text": [
            "\r 15%|█▌        | 12/80 [03:43<21:22, 18.87s/it]"
          ]
        },
        {
          "output_type": "stream",
          "name": "stdout",
          "text": [
            "Test loss: 0.00092\n",
            "Train loss: 0.00096 | Learning rate: 0.00025418658283290005\n",
            "Test loss: 0.00073\n"
          ]
        },
        {
          "output_type": "stream",
          "name": "stderr",
          "text": [
            "\r 16%|█▋        | 13/80 [04:02<20:56, 18.76s/it]"
          ]
        },
        {
          "output_type": "stream",
          "name": "stdout",
          "text": [
            "Test loss: 0.00088\n",
            "Train loss: 0.00090 | Learning rate: 0.00022876792454961005\n",
            "Test loss: 0.00070\n"
          ]
        },
        {
          "output_type": "stream",
          "name": "stderr",
          "text": [
            "\r 18%|█▊        | 14/80 [04:21<20:43, 18.84s/it]"
          ]
        },
        {
          "output_type": "stream",
          "name": "stdout",
          "text": [
            "Test loss: 0.00083\n",
            "Train loss: 0.00087 | Learning rate: 0.00020589113209464906\n",
            "Test loss: 0.00066\n"
          ]
        },
        {
          "output_type": "stream",
          "name": "stderr",
          "text": [
            "\r 19%|█▉        | 15/80 [04:41<20:41, 19.11s/it]"
          ]
        },
        {
          "output_type": "stream",
          "name": "stdout",
          "text": [
            "Test loss: 0.00079\n",
            "Train loss: 0.00085 | Learning rate: 0.00018530201888518417\n",
            "Test loss: 0.00065\n"
          ]
        },
        {
          "output_type": "stream",
          "name": "stderr",
          "text": [
            "\r 20%|██        | 16/80 [04:59<20:07, 18.87s/it]"
          ]
        },
        {
          "output_type": "stream",
          "name": "stdout",
          "text": [
            "Test loss: 0.00077\n",
            "Train loss: 0.00082 | Learning rate: 0.00016677181699666576\n",
            "Test loss: 0.00062\n"
          ]
        },
        {
          "output_type": "stream",
          "name": "stderr",
          "text": [
            "\r 21%|██▏       | 17/80 [05:18<19:50, 18.90s/it]"
          ]
        },
        {
          "output_type": "stream",
          "name": "stdout",
          "text": [
            "Test loss: 0.00075\n",
            "Train loss: 0.00082 | Learning rate: 0.0001500946352969992\n",
            "Test loss: 0.00063\n"
          ]
        },
        {
          "output_type": "stream",
          "name": "stderr",
          "text": [
            "\r 22%|██▎       | 18/80 [05:36<19:25, 18.79s/it]"
          ]
        },
        {
          "output_type": "stream",
          "name": "stdout",
          "text": [
            "Test loss: 0.00075\n",
            "Train loss: 0.00078 | Learning rate: 0.0001350851717672993\n",
            "Test loss: 0.00061\n"
          ]
        },
        {
          "output_type": "stream",
          "name": "stderr",
          "text": [
            "\r 24%|██▍       | 19/80 [05:55<19:04, 18.76s/it]"
          ]
        },
        {
          "output_type": "stream",
          "name": "stdout",
          "text": [
            "Test loss: 0.00072\n",
            "Train loss: 0.00079 | Learning rate: 0.00012157665459056936\n",
            "Test loss: 0.00059\n"
          ]
        },
        {
          "output_type": "stream",
          "name": "stderr",
          "text": [
            "\r 25%|██▌       | 20/80 [06:15<19:10, 19.18s/it]"
          ]
        },
        {
          "output_type": "stream",
          "name": "stdout",
          "text": [
            "Test loss: 0.00070\n",
            "Train loss: 0.00077 | Learning rate: 0.00010941898913151243\n",
            "Test loss: 0.00058\n"
          ]
        },
        {
          "output_type": "stream",
          "name": "stderr",
          "text": [
            "\r 26%|██▋       | 21/80 [06:34<18:38, 18.95s/it]"
          ]
        },
        {
          "output_type": "stream",
          "name": "stdout",
          "text": [
            "Test loss: 0.00069\n",
            "Train loss: 0.00073 | Learning rate: 9.847709021836118e-05\n",
            "Test loss: 0.00057\n"
          ]
        },
        {
          "output_type": "stream",
          "name": "stderr",
          "text": [
            "\r 28%|██▊       | 22/80 [06:52<18:07, 18.76s/it]"
          ]
        },
        {
          "output_type": "stream",
          "name": "stdout",
          "text": [
            "Test loss: 0.00068\n",
            "Train loss: 0.00072 | Learning rate: 8.862938119652506e-05\n",
            "Test loss: 0.00056\n"
          ]
        },
        {
          "output_type": "stream",
          "name": "stderr",
          "text": [
            "\r 29%|██▉       | 23/80 [07:12<18:03, 19.01s/it]"
          ]
        },
        {
          "output_type": "stream",
          "name": "stdout",
          "text": [
            "Test loss: 0.00067\n",
            "Train loss: 0.00072 | Learning rate: 7.976644307687256e-05\n",
            "Test loss: 0.00055\n"
          ]
        },
        {
          "output_type": "stream",
          "name": "stderr",
          "text": [
            "\r 30%|███       | 24/80 [07:30<17:30, 18.76s/it]"
          ]
        },
        {
          "output_type": "stream",
          "name": "stdout",
          "text": [
            "Test loss: 0.00066\n",
            "Train loss: 0.00072 | Learning rate: 7.17897987691853e-05\n",
            "Test loss: 0.00055\n"
          ]
        },
        {
          "output_type": "stream",
          "name": "stderr",
          "text": [
            "\r 31%|███▏      | 25/80 [07:49<17:11, 18.76s/it]"
          ]
        },
        {
          "output_type": "stream",
          "name": "stdout",
          "text": [
            "Test loss: 0.00065\n",
            "Train loss: 0.00070 | Learning rate: 6.461081889226677e-05\n",
            "Test loss: 0.00054\n"
          ]
        },
        {
          "output_type": "stream",
          "name": "stderr",
          "text": [
            "\r 32%|███▎      | 26/80 [08:08<17:01, 18.92s/it]"
          ]
        },
        {
          "output_type": "stream",
          "name": "stdout",
          "text": [
            "Test loss: 0.00065\n",
            "Train loss: 0.00070 | Learning rate: 5.81497370030401e-05\n",
            "Test loss: 0.00054\n"
          ]
        },
        {
          "output_type": "stream",
          "name": "stderr",
          "text": [
            "\r 34%|███▍      | 27/80 [08:26<16:31, 18.71s/it]"
          ]
        },
        {
          "output_type": "stream",
          "name": "stdout",
          "text": [
            "Test loss: 0.00064\n",
            "Train loss: 0.00069 | Learning rate: 5.233476330273609e-05\n",
            "Test loss: 0.00053\n"
          ]
        },
        {
          "output_type": "stream",
          "name": "stderr",
          "text": [
            "\r 35%|███▌      | 28/80 [08:45<16:17, 18.80s/it]"
          ]
        },
        {
          "output_type": "stream",
          "name": "stdout",
          "text": [
            "Test loss: 0.00063\n",
            "Train loss: 0.00069 | Learning rate: 4.7101286972462485e-05\n",
            "Test loss: 0.00053\n"
          ]
        },
        {
          "output_type": "stream",
          "name": "stderr",
          "text": [
            "\r 36%|███▋      | 29/80 [09:04<16:08, 18.98s/it]"
          ]
        },
        {
          "output_type": "stream",
          "name": "stdout",
          "text": [
            "Test loss: 0.00063\n",
            "Train loss: 0.00070 | Learning rate: 4.239115827521624e-05\n",
            "Test loss: 0.00052\n"
          ]
        },
        {
          "output_type": "stream",
          "name": "stderr",
          "text": [
            "\r 38%|███▊      | 30/80 [09:23<15:45, 18.92s/it]"
          ]
        },
        {
          "output_type": "stream",
          "name": "stdout",
          "text": [
            "Test loss: 0.00062\n",
            "Train loss: 0.00067 | Learning rate: 3.8152042447694614e-05\n",
            "Test loss: 0.00052\n"
          ]
        },
        {
          "output_type": "stream",
          "name": "stderr",
          "text": [
            "\r 39%|███▉      | 31/80 [09:43<15:40, 19.19s/it]"
          ]
        },
        {
          "output_type": "stream",
          "name": "stdout",
          "text": [
            "Test loss: 0.00062\n",
            "Train loss: 0.00067 | Learning rate: 3.433683820292515e-05\n",
            "Test loss: 0.00051\n"
          ]
        },
        {
          "output_type": "stream",
          "name": "stderr",
          "text": [
            "\r 40%|████      | 32/80 [10:01<15:10, 18.97s/it]"
          ]
        },
        {
          "output_type": "stream",
          "name": "stdout",
          "text": [
            "Test loss: 0.00062\n",
            "Train loss: 0.00067 | Learning rate: 3.090315438263264e-05\n",
            "Test loss: 0.00051\n"
          ]
        },
        {
          "output_type": "stream",
          "name": "stderr",
          "text": [
            "\r 41%|████▏     | 33/80 [10:20<14:48, 18.90s/it]"
          ]
        },
        {
          "output_type": "stream",
          "name": "stdout",
          "text": [
            "Test loss: 0.00061\n",
            "Train loss: 0.00065 | Learning rate: 2.7812838944369376e-05\n",
            "Test loss: 0.00051\n"
          ]
        },
        {
          "output_type": "stream",
          "name": "stderr",
          "text": [
            "\r 42%|████▎     | 34/80 [10:40<14:40, 19.15s/it]"
          ]
        },
        {
          "output_type": "stream",
          "name": "stdout",
          "text": [
            "Test loss: 0.00061\n",
            "Train loss: 0.00065 | Learning rate: 2.503155504993244e-05\n",
            "Test loss: 0.00051\n"
          ]
        },
        {
          "output_type": "stream",
          "name": "stderr",
          "text": [
            "\r 44%|████▍     | 35/80 [10:58<14:11, 18.92s/it]"
          ]
        },
        {
          "output_type": "stream",
          "name": "stdout",
          "text": [
            "Test loss: 0.00061\n",
            "Train loss: 0.00070 | Learning rate: 2.2528399544939195e-05\n",
            "Test loss: 0.00050\n"
          ]
        },
        {
          "output_type": "stream",
          "name": "stderr",
          "text": [
            "\r 45%|████▌     | 36/80 [11:18<14:02, 19.14s/it]"
          ]
        },
        {
          "output_type": "stream",
          "name": "stdout",
          "text": [
            "Test loss: 0.00060\n",
            "Train loss: 0.00065 | Learning rate: 2.0275559590445276e-05\n",
            "Test loss: 0.00050\n"
          ]
        },
        {
          "output_type": "stream",
          "name": "stderr",
          "text": [
            "\r 46%|████▋     | 37/80 [11:37<13:34, 18.95s/it]"
          ]
        },
        {
          "output_type": "stream",
          "name": "stdout",
          "text": [
            "Test loss: 0.00060\n",
            "Train loss: 0.00064 | Learning rate: 1.8248003631400748e-05\n",
            "Test loss: 0.00050\n"
          ]
        },
        {
          "output_type": "stream",
          "name": "stderr",
          "text": [
            "\r 48%|████▊     | 38/80 [11:55<13:07, 18.74s/it]"
          ]
        },
        {
          "output_type": "stream",
          "name": "stdout",
          "text": [
            "Test loss: 0.00060\n",
            "Train loss: 0.00065 | Learning rate: 1.6423203268260675e-05\n",
            "Test loss: 0.00050\n"
          ]
        },
        {
          "output_type": "stream",
          "name": "stderr",
          "text": [
            "\r 49%|████▉     | 39/80 [12:15<13:02, 19.09s/it]"
          ]
        },
        {
          "output_type": "stream",
          "name": "stdout",
          "text": [
            "Test loss: 0.00059\n",
            "Train loss: 0.00066 | Learning rate: 1.4780882941434607e-05\n",
            "Test loss: 0.00049\n"
          ]
        },
        {
          "output_type": "stream",
          "name": "stderr",
          "text": [
            "\r 50%|█████     | 40/80 [12:33<12:33, 18.83s/it]"
          ]
        },
        {
          "output_type": "stream",
          "name": "stdout",
          "text": [
            "Test loss: 0.00059\n",
            "Train loss: 0.00064 | Learning rate: 1.3302794647291146e-05\n",
            "Test loss: 0.00049\n"
          ]
        },
        {
          "output_type": "stream",
          "name": "stderr",
          "text": [
            "\r 51%|█████▏    | 41/80 [12:51<12:05, 18.61s/it]"
          ]
        },
        {
          "output_type": "stream",
          "name": "stdout",
          "text": [
            "Test loss: 0.00059\n",
            "Train loss: 0.00064 | Learning rate: 1.1972515182562031e-05\n",
            "Test loss: 0.00049\n"
          ]
        },
        {
          "output_type": "stream",
          "name": "stderr",
          "text": [
            "\r 52%|█████▎    | 42/80 [13:11<12:01, 18.98s/it]"
          ]
        },
        {
          "output_type": "stream",
          "name": "stdout",
          "text": [
            "Test loss: 0.00059\n",
            "Train loss: 0.00064 | Learning rate: 1.0775263664305828e-05\n",
            "Test loss: 0.00049\n"
          ]
        },
        {
          "output_type": "stream",
          "name": "stderr",
          "text": [
            "\r 54%|█████▍    | 43/80 [13:29<11:35, 18.79s/it]"
          ]
        },
        {
          "output_type": "stream",
          "name": "stdout",
          "text": [
            "Test loss: 0.00059\n",
            "Train loss: 0.00064 | Learning rate: 9.697737297875246e-06\n",
            "Test loss: 0.00049\n"
          ]
        },
        {
          "output_type": "stream",
          "name": "stderr",
          "text": [
            "\r 55%|█████▌    | 44/80 [13:48<11:12, 18.68s/it]"
          ]
        },
        {
          "output_type": "stream",
          "name": "stdout",
          "text": [
            "Test loss: 0.00058\n",
            "Train loss: 0.00064 | Learning rate: 8.727963568087722e-06\n",
            "Test loss: 0.00049\n"
          ]
        },
        {
          "output_type": "stream",
          "name": "stderr",
          "text": [
            "\r 56%|█████▋    | 45/80 [14:07<11:04, 18.98s/it]"
          ]
        },
        {
          "output_type": "stream",
          "name": "stdout",
          "text": [
            "Test loss: 0.00058\n",
            "Train loss: 0.00064 | Learning rate: 7.85516721127895e-06\n",
            "Test loss: 0.00049\n"
          ]
        },
        {
          "output_type": "stream",
          "name": "stderr",
          "text": [
            "\r 57%|█████▊    | 46/80 [14:26<10:42, 18.89s/it]"
          ]
        },
        {
          "output_type": "stream",
          "name": "stdout",
          "text": [
            "Test loss: 0.00058\n",
            "Train loss: 0.00066 | Learning rate: 7.069650490151056e-06\n",
            "Test loss: 0.00048\n"
          ]
        },
        {
          "output_type": "stream",
          "name": "stderr",
          "text": [
            "\r 59%|█████▉    | 47/80 [14:46<10:36, 19.29s/it]"
          ]
        },
        {
          "output_type": "stream",
          "name": "stdout",
          "text": [
            "Test loss: 0.00058\n",
            "Train loss: 0.00064 | Learning rate: 6.362685441135951e-06\n",
            "Test loss: 0.00048\n"
          ]
        },
        {
          "output_type": "stream",
          "name": "stderr",
          "text": [
            "\r 60%|██████    | 48/80 [15:05<10:16, 19.26s/it]"
          ]
        },
        {
          "output_type": "stream",
          "name": "stdout",
          "text": [
            "Test loss: 0.00058\n",
            "Train loss: 0.00063 | Learning rate: 5.7264168970223554e-06\n",
            "Test loss: 0.00048\n"
          ]
        },
        {
          "output_type": "stream",
          "name": "stderr",
          "text": [
            "\r 61%|██████▏   | 49/80 [15:24<09:50, 19.04s/it]"
          ]
        },
        {
          "output_type": "stream",
          "name": "stdout",
          "text": [
            "Test loss: 0.00058\n",
            "Train loss: 0.00064 | Learning rate: 5.15377520732012e-06\n",
            "Test loss: 0.00048\n"
          ]
        },
        {
          "output_type": "stream",
          "name": "stderr",
          "text": [
            "\r 62%|██████▎   | 50/80 [15:43<09:34, 19.15s/it]"
          ]
        },
        {
          "output_type": "stream",
          "name": "stdout",
          "text": [
            "Test loss: 0.00058\n",
            "Train loss: 0.00062 | Learning rate: 4.638397686588108e-06\n",
            "Test loss: 0.00048\n"
          ]
        },
        {
          "output_type": "stream",
          "name": "stderr",
          "text": [
            "\r 64%|██████▍   | 51/80 [16:02<09:07, 18.89s/it]"
          ]
        },
        {
          "output_type": "stream",
          "name": "stdout",
          "text": [
            "Test loss: 0.00058\n",
            "Train loss: 0.00062 | Learning rate: 4.174557917929298e-06\n",
            "Test loss: 0.00048\n"
          ]
        },
        {
          "output_type": "stream",
          "name": "stderr",
          "text": [
            "\r 65%|██████▌   | 52/80 [16:20<08:44, 18.72s/it]"
          ]
        },
        {
          "output_type": "stream",
          "name": "stdout",
          "text": [
            "Test loss: 0.00058\n",
            "Train loss: 0.00063 | Learning rate: 3.7571021261363684e-06\n",
            "Test loss: 0.00048\n"
          ]
        },
        {
          "output_type": "stream",
          "name": "stderr",
          "text": [
            "\r 66%|██████▋   | 53/80 [16:39<08:29, 18.88s/it]"
          ]
        },
        {
          "output_type": "stream",
          "name": "stdout",
          "text": [
            "Test loss: 0.00058\n",
            "Train loss: 0.00062 | Learning rate: 3.3813919135227317e-06\n",
            "Test loss: 0.00048\n"
          ]
        },
        {
          "output_type": "stream",
          "name": "stderr",
          "text": [
            "\r 68%|██████▊   | 54/80 [16:57<08:04, 18.64s/it]"
          ]
        },
        {
          "output_type": "stream",
          "name": "stdout",
          "text": [
            "Test loss: 0.00058\n",
            "Train loss: 0.00063 | Learning rate: 3.0432527221704586e-06\n",
            "Test loss: 0.00048\n"
          ]
        },
        {
          "output_type": "stream",
          "name": "stderr",
          "text": [
            "\r 69%|██████▉   | 55/80 [17:16<07:50, 18.81s/it]"
          ]
        },
        {
          "output_type": "stream",
          "name": "stdout",
          "text": [
            "Test loss: 0.00058\n",
            "Train loss: 0.00061 | Learning rate: 2.7389274499534128e-06\n",
            "Test loss: 0.00048\n"
          ]
        },
        {
          "output_type": "stream",
          "name": "stderr",
          "text": [
            "\r 70%|███████   | 56/80 [17:36<07:34, 18.92s/it]"
          ]
        },
        {
          "output_type": "stream",
          "name": "stdout",
          "text": [
            "Test loss: 0.00057\n",
            "Train loss: 0.00064 | Learning rate: 2.4650347049580716e-06\n",
            "Test loss: 0.00048\n"
          ]
        },
        {
          "output_type": "stream",
          "name": "stderr",
          "text": [
            "\r 71%|███████▏  | 57/80 [17:54<07:09, 18.68s/it]"
          ]
        },
        {
          "output_type": "stream",
          "name": "stdout",
          "text": [
            "Test loss: 0.00057\n",
            "Train loss: 0.00063 | Learning rate: 2.2185312344622644e-06\n",
            "Test loss: 0.00048\n"
          ]
        },
        {
          "output_type": "stream",
          "name": "stderr",
          "text": [
            "\r 72%|███████▎  | 58/80 [18:13<06:54, 18.86s/it]"
          ]
        },
        {
          "output_type": "stream",
          "name": "stdout",
          "text": [
            "Test loss: 0.00057\n",
            "Train loss: 0.00063 | Learning rate: 1.996678111016038e-06\n",
            "Test loss: 0.00048\n"
          ]
        },
        {
          "output_type": "stream",
          "name": "stderr",
          "text": [
            "\r 74%|███████▍  | 59/80 [18:32<06:33, 18.75s/it]"
          ]
        },
        {
          "output_type": "stream",
          "name": "stdout",
          "text": [
            "Test loss: 0.00057\n",
            "Train loss: 0.00064 | Learning rate: 1.7970102999144342e-06\n",
            "Test loss: 0.00048\n"
          ]
        },
        {
          "output_type": "stream",
          "name": "stderr",
          "text": [
            "\r 75%|███████▌  | 60/80 [18:50<06:12, 18.61s/it]"
          ]
        },
        {
          "output_type": "stream",
          "name": "stdout",
          "text": [
            "Test loss: 0.00057\n",
            "Train loss: 0.00063 | Learning rate: 1.6173092699229909e-06\n",
            "Test loss: 0.00048\n"
          ]
        },
        {
          "output_type": "stream",
          "name": "stderr",
          "text": [
            "\r 76%|███████▋  | 61/80 [19:09<05:58, 18.89s/it]"
          ]
        },
        {
          "output_type": "stream",
          "name": "stdout",
          "text": [
            "Test loss: 0.00057\n",
            "Train loss: 0.00062 | Learning rate: 1.4555783429306917e-06\n",
            "Test loss: 0.00048\n"
          ]
        },
        {
          "output_type": "stream",
          "name": "stderr",
          "text": [
            "\r 78%|███████▊  | 62/80 [19:28<05:36, 18.71s/it]"
          ]
        },
        {
          "output_type": "stream",
          "name": "stdout",
          "text": [
            "Test loss: 0.00057\n",
            "Train loss: 0.00062 | Learning rate: 1.3100205086376225e-06\n",
            "Test loss: 0.00048\n"
          ]
        },
        {
          "output_type": "stream",
          "name": "stderr",
          "text": [
            "\r 79%|███████▉  | 63/80 [19:46<05:16, 18.64s/it]"
          ]
        },
        {
          "output_type": "stream",
          "name": "stdout",
          "text": [
            "Test loss: 0.00057\n",
            "Train loss: 0.00064 | Learning rate: 1.1790184577738603e-06\n",
            "Test loss: 0.00048\n"
          ]
        },
        {
          "output_type": "stream",
          "name": "stderr",
          "text": [
            "\r 80%|████████  | 64/80 [20:06<05:02, 18.92s/it]"
          ]
        },
        {
          "output_type": "stream",
          "name": "stdout",
          "text": [
            "Test loss: 0.00057\n",
            "Train loss: 0.00062 | Learning rate: 1.0611166119964742e-06\n",
            "Test loss: 0.00048\n"
          ]
        },
        {
          "output_type": "stream",
          "name": "stderr",
          "text": [
            "\r 81%|████████▏ | 65/80 [20:24<04:41, 18.78s/it]"
          ]
        },
        {
          "output_type": "stream",
          "name": "stdout",
          "text": [
            "Test loss: 0.00057\n",
            "Train loss: 0.00062 | Learning rate: 9.550049507968269e-07\n",
            "Test loss: 0.00048\n"
          ]
        },
        {
          "output_type": "stream",
          "name": "stderr",
          "text": [
            "\r 82%|████████▎ | 66/80 [20:42<04:20, 18.59s/it]"
          ]
        },
        {
          "output_type": "stream",
          "name": "stdout",
          "text": [
            "Test loss: 0.00057\n",
            "Train loss: 0.00062 | Learning rate: 8.595044557171442e-07\n",
            "Test loss: 0.00048\n"
          ]
        },
        {
          "output_type": "stream",
          "name": "stderr",
          "text": [
            "\r 84%|████████▍ | 67/80 [21:02<04:04, 18.82s/it]"
          ]
        },
        {
          "output_type": "stream",
          "name": "stdout",
          "text": [
            "Test loss: 0.00057\n",
            "Train loss: 0.00062 | Learning rate: 7.735540101454298e-07\n",
            "Test loss: 0.00048\n"
          ]
        },
        {
          "output_type": "stream",
          "name": "stderr",
          "text": [
            "\r 85%|████████▌ | 68/80 [21:20<03:43, 18.60s/it]"
          ]
        },
        {
          "output_type": "stream",
          "name": "stdout",
          "text": [
            "Test loss: 0.00057\n",
            "Train loss: 0.00062 | Learning rate: 6.961986091308869e-07\n",
            "Test loss: 0.00048\n"
          ]
        },
        {
          "output_type": "stream",
          "name": "stderr",
          "text": [
            "\r 86%|████████▋ | 69/80 [21:38<03:24, 18.63s/it]"
          ]
        },
        {
          "output_type": "stream",
          "name": "stdout",
          "text": [
            "Test loss: 0.00057\n",
            "Train loss: 0.00062 | Learning rate: 6.265787482177982e-07\n",
            "Test loss: 0.00048\n"
          ]
        },
        {
          "output_type": "stream",
          "name": "stderr",
          "text": [
            "\r 86%|████████▋ | 69/80 [21:57<03:30, 19.10s/it]"
          ]
        },
        {
          "output_type": "stream",
          "name": "stdout",
          "text": [
            "Test loss: 0.00057\n",
            "Early stopping!\n"
          ]
        },
        {
          "output_type": "stream",
          "name": "stderr",
          "text": [
            "\n"
          ]
        }
      ]
    },
    {
      "cell_type": "code",
      "source": [
        "sample, _ = next(iter(test_dataloader))"
      ],
      "metadata": {
        "id": "GKyIkfoey4oL"
      },
      "execution_count": null,
      "outputs": []
    },
    {
      "cell_type": "code",
      "source": [
        "model.eval()\n",
        "with torch.no_grad():\n",
        "  preds = model(sample.to(device))"
      ],
      "metadata": {
        "id": "mWaNslWFaLxA"
      },
      "execution_count": null,
      "outputs": []
    },
    {
      "cell_type": "code",
      "source": [
        "def show_predicted_mask(index: int = 0):\n",
        "  plt.figure(figsize=(12, 6))\n",
        "  plt.subplot(1, 2, 1)\n",
        "  plt.imshow(sample[index].permute(1, 2, 0).numpy(), cmap='gray')\n",
        "  plt.title('Original image')\n",
        "\n",
        "  plt.subplot(1, 2, 2)\n",
        "  plt.imshow(preds[index].squeeze().cpu().numpy(), cmap='gray')\n",
        "  plt.title('Predicted mask')\n",
        "\n",
        "  plt.show()"
      ],
      "metadata": {
        "id": "W2lDCoTzaTUe"
      },
      "execution_count": null,
      "outputs": []
    },
    {
      "cell_type": "code",
      "source": [
        "show_predicted_mask(20)"
      ],
      "metadata": {
        "colab": {
          "base_uri": "https://localhost:8080/",
          "height": 322
        },
        "id": "zcNjZ-lJbdFf",
        "outputId": "80a6634f-5472-4da4-988b-2296d11f5690"
      },
      "execution_count": null,
      "outputs": [
        {
          "output_type": "display_data",
          "data": {
            "text/plain": [
              "<Figure size 1200x600 with 2 Axes>"
            ],
            "image/png": "[encoded data removed]"
          },
          "metadata": {}
        }
      ]
    },
    {
      "cell_type": "markdown",
      "source": [],
      "metadata": {
        "id": "UC_qwjbgZd79"
      }
    }
  ]
}